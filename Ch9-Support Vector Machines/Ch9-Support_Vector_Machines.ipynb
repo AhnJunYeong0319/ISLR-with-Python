{
 "cells": [
  {
   "cell_type": "markdown",
   "metadata": {},
   "source": [
    "# Chapter 9 - [Support Vector Machines](http://scikit-learn.org/0.17/modules/svm.html#svm) \n",
    "\n",
    "- Classification, Regression에 모두 적용 가능 \n",
    "- Feature 수가 많아도 잘 대응 (샘플수보다 feature수가 **많으면** 곤란) \n",
    "- 다양한 Kernel 함수를 사용해 분석할 데이터에 적합한 decision function 생성 \n",
    "- ISLR 책 9장이 Support Vector Machine **개념**을 매우 친절하게 설명\n",
    "- GridSearchCV와 RandomSearchCV를 사용해 hyper-parameter 탐색 공간을 자동적/체계적으로 탐색하고 그 결과를 활용하는 법을 익힘\n",
    "- 'Heart' 데이터에 대해 Gradient Boosting과 SVM을 GridSearchCV/RandomSearchCV를 통해 적용한 결과를 해석/활용하는 예\n",
    "- 1995년 [SVM](http://download.springer.com/static/pdf/467/art%253A10.1007%252FBF00994018.pdf?originUrl=http%3A%2F%2Flink.springer.com%2Farticle%2F10.1007%2FBF00994018&token2=exp=1480068700~acl=%2Fstatic%2Fpdf%2F467%2Fart%25253A10.1007%25252FBF00994018.pdf%3ForiginUrl%3Dhttp%253A%252F%252Flink.springer.com%252Farticle%252F10.1007%252FBF00994018*~hmac=62be99775be16a4967ba228bf06a0d42cbddd5e1b022da8ace5fda29e2aa97d1) 논문 \n"
   ]
  },
  {
   "cell_type": "code",
   "execution_count": 1,
   "metadata": {
    "collapsed": false
   },
   "outputs": [],
   "source": [
    "import pandas as pd\n",
    "import numpy as np\n",
    "import matplotlib.pyplot as plt\n",
    "import seaborn as sns\n",
    "import sklearn\n",
    "from sklearn.svm import SVC, NuSVC, LinearSVC, SVR \n",
    "\n",
    "from sklearn.cross_validation import train_test_split, cross_val_score\n",
    "from sklearn import metrics  \n",
    "\n",
    "%matplotlib inline\n",
    "plt.style.use('seaborn-white')"
   ]
  },
  {
   "cell_type": "markdown",
   "metadata": {},
   "source": [
    "## 9.6 Lab: Support Vector Machines\n",
    "### [9.6.1 Support Vector Classifier](http://scikit-learn.org/0.17/modules/generated/sklearn.svm.SVC.html#sklearn.svm.SVC)"
   ]
  },
  {
   "cell_type": "code",
   "execution_count": 2,
   "metadata": {
    "collapsed": false
   },
   "outputs": [
    {
     "data": {
      "image/png": "[encoded data removed]",
      "text/plain": [
       "<matplotlib.figure.Figure at 0x8ec8f10>"
      ]
     },
     "metadata": {},
     "output_type": "display_data"
    }
   ],
   "source": [
    "# 20 x 2 matrix 생성 : normal(0, 1) 분포, 카테고리 2개 (-1, 1)\n",
    "np.random.seed(1)\n",
    "X = np.random.randn(20,2)\n",
    "y = np.repeat([-1,1], 10)\n",
    "\n",
    "X[y == 1] = X[y == 1] +1\n",
    "plt.scatter(X[:,0], X[:,1], s=50, c=y, cmap=plt.cm.bwr )  # cmap : matplotlib.org/examples/color/colormaps_reference.html\n",
    "plt.xlabel('X0')\n",
    "plt.ylabel('X1');"
   ]
  },
  {
   "cell_type": "markdown",
   "metadata": {},
   "source": [
    "#### Classifier 2-D plotting function [참고1](http://scikit-learn.org/stable/auto_examples/svm/plot_iris.html), [참고2](http://scikit-learn.org/stable/auto_examples/classification/plot_classifier_comparison.html)"
   ]
  },
  {
   "cell_type": "code",
   "execution_count": 3,
   "metadata": {
    "collapsed": false
   },
   "outputs": [],
   "source": [
    "from matplotlib.colors import ListedColormap\n",
    "\n",
    "def plot_classifier(classifier, X, y, h=0.02, buffer=0.5):   # should be 2D feature space \n",
    "\n",
    "    # initialize custom marker and color-map : 쵀대 7개 class 까지 지원 \n",
    "    markers = ('o', '^', 's', 'x', 'v', 'D', '*')\n",
    "    colors = ('red', 'blue', 'green', 'cyan', 'magenta', 'yellow', 'gray')\n",
    "    cmap = ListedColormap(colors[:len(np.unique(y))])\n",
    "\n",
    "    #fig, ax1 = plt.subplots(nrows=1, ncols=1, figsize=(6, 5))\n",
    "    plt.figure(figsize=(8, 6))\n",
    "    \n",
    "    # create a mesh to plot in\n",
    "    x_min, x_max = X[:, 0].min() - buffer, X[:, 0].max() + buffer\n",
    "    y_min, y_max = X[:, 1].min() - buffer, X[:, 1].max() + buffer\n",
    "    xx, yy = np.meshgrid(np.arange(x_min, x_max, h), np.arange(y_min, y_max, h))\n",
    "    \n",
    "    # Plot the decision boundary.\n",
    "    Z = classifier.predict(np.c_[xx.ravel(), yy.ravel()])\n",
    "    Z = Z.reshape(xx.shape) # Put the result into a color plot\n",
    "    plt.contourf(xx, yy, Z, alpha=0.4, cmap=cmap)\n",
    "    plt.xlim(xx.min(), xx.max())\n",
    "    plt.ylim(yy.min(), yy.max())\n",
    "\n",
    "    # Plot sample points\n",
    "    for idx, cls in enumerate(np.unique(y)):\n",
    "        plt.scatter(x=X[y == cls, 0], y=X[y == cls, 1], alpha=0.9, c=cmap(idx), s=60,\n",
    "                    marker=markers[idx], label=cls)\n",
    "        \n",
    "    plt.legend(loc='upper right', frameon=True, framealpha=0.3, borderaxespad=0.9)\n",
    "    # additionally, support vectors have a white hole in a marker  \n",
    "    if isinstance(classifier, (sklearn.svm.classes.SVC, SVC)):\n",
    "        sv = classifier.support_vectors_\n",
    "        plt.scatter(sv[:,0], sv[:,1], c='w', marker='.', s=40)\n",
    "        plt.xlim(x_min, x_max)\n",
    "        plt.ylim(y_min, y_max) \n",
    "        \n",
    "#         # plot the parallels to the separating hyperplane that pass through the support vectors\n",
    "#         w = classifier.coef_[0]\n",
    "#         a = -w[0] / w[1]\n",
    "#         xx1 = np.linspace(-5, 5)\n",
    "#         yy1 = a * xx1 - (classifier.intercept_[0]) / w[1]\n",
    "        \n",
    "#         margin = 1 / np.sqrt(np.sum(classifier.coef_ ** 2))\n",
    "#         yy_down = yy1 + a * margin\n",
    "#         yy_up = yy1 - a * margin\n",
    "        \n",
    "#         # plot the line, the points, and the nearest vectors to the plane\n",
    "#         plt.plot(xx1, yy_down, 'k--')\n",
    "#         plt.plot(xx1, yy_up, 'k--')\n",
    "#         plt.xlim(x_min, x_max)\n",
    "#         plt.ylim(y_min, y_max)\n",
    "                \n",
    "        print('Number of Support Vectors (Class, SV) : ', list(zip(np.unique(y), classifier.n_support_)) )\n",
    "    "
   ]
  },
  {
   "cell_type": "code",
   "execution_count": 4,
   "metadata": {
    "collapsed": false,
    "scrolled": true
   },
   "outputs": [
    {
     "name": "stdout",
     "output_type": "stream",
     "text": [
      "Number of Support Vectors (Class, SV) :  [(-1, 3), (1, 3)]\n"
     ]
    },
    {
     "data": {
      "image/png": "[encoded data removed]",
      "text/plain": [
       "<matplotlib.figure.Figure at 0x2d54610>"
      ]
     },
     "metadata": {},
     "output_type": "display_data"
    }
   ],
   "source": [
    "svc = SVC(C= 10, kernel='linear', probability=True)   # C: Penalty for the error. C higher -> narrower margin, less support vectors\n",
    "svc.fit(X, y)\n",
    "plot_classifier(svc, X, y)\n",
    "plt.xlabel('X0')\n",
    "plt.ylabel('X1')\n",
    "plt.show()"
   ]
  },
  {
   "cell_type": "markdown",
   "metadata": {},
   "source": [
    "#### C값을 0.1로 낮춘다:\n",
    "- scikit-learn의 C 값은 ISLR 책의 C와 반대 역할 (책에서의 C는 에러를 감내하는 허용치, scikit-learn에서의 C는 에러에 대한 벌칙)\n",
    "- C가 0.1로 되어 training set 분류가 틀릴 가능성이 많아지더라도 margin이 커져 나중에 overfit 될 가능성을 낮춘다 "
   ]
  },
  {
   "cell_type": "code",
   "execution_count": 5,
   "metadata": {
    "collapsed": false
   },
   "outputs": [
    {
     "name": "stdout",
     "output_type": "stream",
     "text": [
      "Number of Support Vectors (Class, SV) :  [(-1, 7), (1, 8)]\n"
     ]
    },
    {
     "data": {
      "image/png": "[encoded data removed]",
      "text/plain": [
       "<matplotlib.figure.Figure at 0xa2523b0>"
      ]
     },
     "metadata": {},
     "output_type": "display_data"
    }
   ],
   "source": [
    "svc = SVC(C= 0.1, kernel='linear', probability=True)   # C : Penalty for the error. C higher -> smaller margin, less support vectors\n",
    "svc.fit(X, y)\n",
    "plot_classifier(svc, X, y)\n",
    "plt.xlabel('X0')\n",
    "plt.ylabel('X1')\n",
    "plt.show()"
   ]
  },
  {
   "cell_type": "markdown",
   "metadata": {},
   "source": [
    "Cost (Penalty)를 10에서 0.1로 낮추니 margin이 커져 더 많은 misclassification을 허용하고, 따라서 support vector의 수가 늘어남 "
   ]
  },
  {
   "cell_type": "code",
   "execution_count": 6,
   "metadata": {
    "collapsed": false
   },
   "outputs": [
    {
     "name": "stdout",
     "output_type": "stream",
     "text": [
      "Indices of support vectors: [ 0  3  4  6  7  8  9 11 12 13 14 15 16 17 18]\n",
      "\n",
      "Support Vectors:\n",
      "[[ 1.62434536 -0.61175641]\n",
      " [ 1.74481176 -0.7612069 ]\n",
      " [ 0.3190391  -0.24937038]\n",
      " [-0.3224172  -0.38405435]\n",
      " [ 1.13376944 -1.09989127]\n",
      " [-0.17242821 -0.87785842]\n",
      " [ 0.04221375  0.58281521]\n",
      " [ 1.90159072  1.50249434]\n",
      " [ 1.90085595  0.31627214]\n",
      " [ 0.87710977  0.06423057]\n",
      " [ 0.73211192  1.53035547]\n",
      " [ 0.30833925  0.60324647]\n",
      " [ 0.3128273   0.15479436]\n",
      " [ 0.32875387  0.9873354 ]\n",
      " [-0.11731035  1.2344157 ]]\n"
     ]
    }
   ],
   "source": [
    "print(\"Indices of support vectors:\" , svc.support_ )\n",
    "print()\n",
    "print(\"Support Vectors:\")\n",
    "print(svc.support_vectors_)"
   ]
  },
  {
   "cell_type": "code",
   "execution_count": 7,
   "metadata": {
    "collapsed": false
   },
   "outputs": [
    {
     "name": "stdout",
     "output_type": "stream",
     "text": [
      "Distance of the samples X to the separating hyperplane:\n",
      "[-0.61870697 -1.00940732 -1.92202839 -0.7306054  -0.36558981 -1.72706202\n",
      " -0.47991423 -1.00008067 -0.85410017  0.26457638  1.45409173  0.99991934\n",
      "  0.09455529 -0.11621096  1.00016133  0.28495376 -0.05723407  0.57846584\n",
      "  0.75902462  1.19637842]\n"
     ]
    }
   ],
   "source": [
    "print(\"Distance of the samples X to the separating hyperplane:\\n%s\" % svc.decision_function(X)  )"
   ]
  },
  {
   "cell_type": "markdown",
   "metadata": {},
   "source": [
    "#### training 성능: C=0.1 에서 "
   ]
  },
  {
   "cell_type": "code",
   "execution_count": 8,
   "metadata": {
    "collapsed": false
   },
   "outputs": [
    {
     "data": {
      "text/plain": [
       "[(-1, -1),\n",
       " (-1, -1),\n",
       " (-1, -1),\n",
       " (-1, -1),\n",
       " (-1, -1),\n",
       " (-1, -1),\n",
       " (-1, -1),\n",
       " (-1, -1),\n",
       " (-1, -1),\n",
       " (-1, 1),\n",
       " (1, 1),\n",
       " (1, 1),\n",
       " (1, 1),\n",
       " (1, -1),\n",
       " (1, 1),\n",
       " (1, 1),\n",
       " (1, -1),\n",
       " (1, 1),\n",
       " (1, 1),\n",
       " (1, 1)]"
      ]
     },
     "execution_count": 8,
     "metadata": {},
     "output_type": "execute_result"
    }
   ],
   "source": [
    "list(zip(y, svc.predict(X)))"
   ]
  },
  {
   "cell_type": "markdown",
   "metadata": {
    "collapsed": false
   },
   "source": [
    "앞의 plot에서 보았듯이 .-1' 클래스 중에는 1개, '1' 클래스에서는 2개를 잘 못 분류했다 "
   ]
  },
  {
   "cell_type": "code",
   "execution_count": 9,
   "metadata": {
    "collapsed": false
   },
   "outputs": [
    {
     "name": "stdout",
     "output_type": "stream",
     "text": [
      "[[9 1]\n",
      " [2 8]]\n",
      "Accuracy:  0.85\n",
      "Sensitivity:  0.8\n",
      "Precision:  0.888888888889\n",
      "AUC Score:  0.97\n"
     ]
    }
   ],
   "source": [
    "# C=0.1 시 confusion matrix, accuray 등 \n",
    "conf_mat = metrics.confusion_matrix(y, svc.predict(X))     \n",
    "print(conf_mat)\n",
    "\n",
    "print(\"Accuracy: \", metrics.accuracy_score(y, svc.predict(X)) )\n",
    "print(\"Sensitivity: \",  metrics.recall_score(y, svc.predict(X)) )\n",
    "print(\"Precision: \",  metrics.precision_score(y, svc.predict(X)) )\n",
    "\n",
    "y_pred_prob = svc.predict_proba(X)\n",
    "print(\"AUC Score: \", metrics.roc_auc_score(y, y_pred_prob[:,1]) )"
   ]
  },
  {
   "cell_type": "markdown",
   "metadata": {},
   "source": [
    "#### Cross_Validation을 통한 모델 튜닝 : cost 'C'를 변경하면서, metric으로는  'accuracy'"
   ]
  },
  {
   "cell_type": "code",
   "execution_count": 10,
   "metadata": {
    "collapsed": false
   },
   "outputs": [
    {
     "data": {
      "text/plain": [
       "[(0.001, 0.94999999999999996),\n",
       " (0.01, 0.94999999999999996),\n",
       " (0.1, 0.84999999999999998),\n",
       " (0.5, 0.90000000000000002),\n",
       " (1, 0.90000000000000002),\n",
       " (5, 0.90000000000000002),\n",
       " (10, 0.90000000000000002),\n",
       " (100, 0.90000000000000002)]"
      ]
     },
     "execution_count": 10,
     "metadata": {},
     "output_type": "execute_result"
    }
   ],
   "source": [
    "range_C = list((0.001, 0.01, 0.1, 0.5, 1, 5, 10, 100))\n",
    "scores = []\n",
    "for c in range_C:\n",
    "    svc = SVC(C=c, kernel='linear', probability=False)   \n",
    "    score_s = cross_val_score(svc, X, y, cv=10, scoring='accuracy')\n",
    "    scores.append(np.mean(score_s))\n",
    "\n",
    "list(zip(range_C, scores))"
   ]
  },
  {
   "cell_type": "markdown",
   "metadata": {},
   "source": [
    "C=0.001 경우가 가장 좋은 성능을 보임 "
   ]
  },
  {
   "cell_type": "markdown",
   "metadata": {},
   "source": [
    "### [GridSearchCV](http://scikit-learn.org/stable/modules/grid_search.html#grid-search)\n",
    "- Hyper parameter 공간을 Cross-Validation으로 탐색\n",
    "- 넘겨진 모든 패러미터 조합을 완전히 탐색하여 최선의 조합을 반환 (Exhausitive Search) \n",
    "- param_grid : dict or list of dictionaries\n",
    "\n",
    "#### 다음은 위 셀의 Cross-Validation을 통한 'C' 패러미터 탐색을 GridSearchCV로 행한 예:"
   ]
  },
  {
   "cell_type": "code",
   "execution_count": 11,
   "metadata": {
    "collapsed": false
   },
   "outputs": [
    {
     "data": {
      "text/plain": [
       "[mean: 0.95000, std: 0.15000, params: {'kernel': 'linear', 'C': 0.001},\n",
       " mean: 0.95000, std: 0.15000, params: {'kernel': 'linear', 'C': 0.01},\n",
       " mean: 0.85000, std: 0.22913, params: {'kernel': 'linear', 'C': 0.1},\n",
       " mean: 0.90000, std: 0.20000, params: {'kernel': 'linear', 'C': 0.5},\n",
       " mean: 0.90000, std: 0.20000, params: {'kernel': 'linear', 'C': 1},\n",
       " mean: 0.90000, std: 0.20000, params: {'kernel': 'linear', 'C': 5},\n",
       " mean: 0.90000, std: 0.20000, params: {'kernel': 'linear', 'C': 10},\n",
       " mean: 0.90000, std: 0.20000, params: {'kernel': 'linear', 'C': 100}]"
      ]
     },
     "execution_count": 11,
     "metadata": {},
     "output_type": "execute_result"
    }
   ],
   "source": [
    "from sklearn.grid_search import GridSearchCV\n",
    "\n",
    "param_grid = [{'C': range_C, 'kernel': ['linear']}]   # parameter search space \n",
    "svc = SVC()\n",
    "svc_GridCV = GridSearchCV(svc, param_grid, cv=10, scoring='accuracy', n_jobs=-1)\n",
    "svc_GridCV.fit(X, y)\n",
    "svc_GridCV.grid_scores_              "
   ]
  },
  {
   "cell_type": "markdown",
   "metadata": {},
   "source": [
    "cross-validation 과 같은 결과를 보임 "
   ]
  },
  {
   "cell_type": "code",
   "execution_count": 12,
   "metadata": {
    "collapsed": false
   },
   "outputs": [
    {
     "data": {
      "text/plain": [
       "<matplotlib.text.Text at 0xa4a0630>"
      ]
     },
     "execution_count": 12,
     "metadata": {},
     "output_type": "execute_result"
    },
    {
     "data": {
      "image/png": "[encoded data removed]",
      "text/plain": [
       "<matplotlib.figure.Figure at 0xa27b4d0>"
      ]
     },
     "metadata": {},
     "output_type": "display_data"
    }
   ],
   "source": [
    "# plot the results\n",
    "grid_mean_scores = [result.mean_validation_score for result in svc_GridCV.grid_scores_]\n",
    "plt.figure(figsize=(12, 4))\n",
    "plt.plot(range_C, grid_mean_scores)\n",
    "plt.xlim([0, 10])\n",
    "plt.xlabel('C')\n",
    "plt.ylabel('Cross-Validated Accuracy')"
   ]
  },
  {
   "cell_type": "code",
   "execution_count": 13,
   "metadata": {
    "collapsed": false
   },
   "outputs": [
    {
     "name": "stdout",
     "output_type": "stream",
     "text": [
      "Best Score: 0.95\n",
      "Best Params: {'kernel': 'linear', 'C': 0.001}\n",
      "SVC(C=0.001, cache_size=200, class_weight=None, coef0=0.0,\n",
      "  decision_function_shape=None, degree=3, gamma='auto', kernel='linear',\n",
      "  max_iter=-1, probability=False, random_state=None, shrinking=True,\n",
      "  tol=0.001, verbose=False)\n"
     ]
    }
   ],
   "source": [
    "print(\"Best Score:\", svc_GridCV.best_score_)\n",
    "print(\"Best Params:\", svc_GridCV.best_params_)\n",
    "print(svc_GridCV.best_estimator_)"
   ]
  },
  {
   "cell_type": "markdown",
   "metadata": {},
   "source": [
    "설정된 ***그리드 공간 내에서의***  최적 모델 : C=0.001 시 Accuracy 가 0.95라 함.  Kernel은 'linear' 한 가지로 세팅했음  "
   ]
  },
  {
   "cell_type": "markdown",
   "metadata": {},
   "source": [
    "#### 위에서 구한 최적의 패러미터로 최적의 모델을 다시 만든다 "
   ]
  },
  {
   "cell_type": "code",
   "execution_count": 14,
   "metadata": {
    "collapsed": false
   },
   "outputs": [
    {
     "name": "stdout",
     "output_type": "stream",
     "text": [
      "Number of Support Vectors (Class, SV) :  [(-1, 10), (1, 10)]\n"
     ]
    },
    {
     "data": {
      "image/png": "[encoded data removed]",
      "text/plain": [
       "<matplotlib.figure.Figure at 0xa49ac90>"
      ]
     },
     "metadata": {},
     "output_type": "display_data"
    }
   ],
   "source": [
    "svc_best = SVC(C= 0.001, kernel='linear', probability=True)\n",
    "svc_best.fit(X, y)\n",
    "plot_classifier(svc_best, X, y)\n",
    "plt.xlabel('X0')\n",
    "plt.ylabel('X1')\n",
    "plt.show()"
   ]
  },
  {
   "cell_type": "markdown",
   "metadata": {},
   "source": [
    "#### Test set을 만들어 앞에서 구한 최적의 모델로 시험해 본다 \n",
    "- training set과 같이 대략 y=x 의 decision line이 생기도록 샘플들 배치 "
   ]
  },
  {
   "cell_type": "code",
   "execution_count": 15,
   "metadata": {
    "collapsed": false
   },
   "outputs": [
    {
     "data": {
      "text/plain": [
       "<matplotlib.text.Text at 0xa5ba590>"
      ]
     },
     "execution_count": 15,
     "metadata": {},
     "output_type": "execute_result"
    },
    {
     "data": {
      "image/png": "[encoded data removed]",
      "text/plain": [
       "<matplotlib.figure.Figure at 0xa4aaa90>"
      ]
     },
     "metadata": {},
     "output_type": "display_data"
    }
   ],
   "source": [
    "np.random.seed(123)\n",
    "X_test = np.random.randn(20, 2)\n",
    "y_test = np.random.choice([-1,1], 20, replace=True)\n",
    "\n",
    "X_test[y_test == 1] = X_test[y_test == 1] +1\n",
    "plt.scatter(X_test[:,0], X_test[:,1], s=50, c=y, cmap=plt.cm.bwr )  \n",
    "plt.xlabel('X0')\n",
    "plt.ylabel('X1')"
   ]
  },
  {
   "cell_type": "markdown",
   "metadata": {},
   "source": [
    "- C=0.001을 사용해 training set으로 구한 hyperplane 모양과 위 test-sample 배치를 보니 test 성능이 좋을 것 같지 않다"
   ]
  },
  {
   "cell_type": "markdown",
   "metadata": {},
   "source": [
    "#### grid search CV의 최적 패러미터 세팅(C=0.001) 값으로 test data에 적용한 결과:"
   ]
  },
  {
   "cell_type": "code",
   "execution_count": 16,
   "metadata": {
    "collapsed": false
   },
   "outputs": [
    {
     "name": "stdout",
     "output_type": "stream",
     "text": [
      "[[ 5  4]\n",
      " [ 1 10]]\n",
      "Accuracy:  0.75\n",
      "Sensitivity:  0.909090909091\n",
      "Precision:  0.714285714286\n"
     ]
    }
   ],
   "source": [
    "pred_test = svc_best.predict(X_test)\n",
    "# list(zip(y_test, pred_test))\n",
    "conf_mat = metrics.confusion_matrix(y_test, pred_test)     \n",
    "print(conf_mat)\n",
    "\n",
    "print(\"Accuracy: \", metrics.accuracy_score(y_test, pred_test) )\n",
    "print(\"Sensitivity: \",  metrics.recall_score(y_test, pred_test) )\n",
    "print(\"Precision: \",  metrics.precision_score(y_test, pred_test) )"
   ]
  },
  {
   "cell_type": "markdown",
   "metadata": {},
   "source": [
    "#### GridSearchCV한 결과에 predict() 메소드를 적용하면 최적의 패러미터를 사용해 predict() 해 주기에 위 cell의 결과와 같은 결과를 반환"
   ]
  },
  {
   "cell_type": "code",
   "execution_count": 17,
   "metadata": {
    "collapsed": false
   },
   "outputs": [
    {
     "name": "stdout",
     "output_type": "stream",
     "text": [
      "[[ 5  4]\n",
      " [ 1 10]]\n",
      "Accuracy:  0.75\n",
      "Sensitivity:  0.909090909091\n",
      "Precision:  0.714285714286\n"
     ]
    }
   ],
   "source": [
    "pred_grid = svc_GridCV.predict(X_test)       # prediction based on the best parameters via gridCV \n",
    "conf_mat = metrics.confusion_matrix(y_test, pred_grid)     \n",
    "print(conf_mat)\n",
    "\n",
    "print(\"Accuracy: \", metrics.accuracy_score(y_test, pred_grid) )\n",
    "print(\"Sensitivity: \",  metrics.recall_score(y_test, pred_grid) )\n",
    "print(\"Precision: \",  metrics.precision_score(y_test, pred_grid) )\n"
   ]
  },
  {
   "cell_type": "markdown",
   "metadata": {},
   "source": [
    "#### Linearly separable한 data에 SVC를 적용하면;\n",
    "- 원래 X, y에서 y==1 인 X에 0.5를 더해 더욱 두 클래스간의 간격을 넓혀 linearly separable 하게 함  "
   ]
  },
  {
   "cell_type": "code",
   "execution_count": 18,
   "metadata": {
    "collapsed": false
   },
   "outputs": [
    {
     "data": {
      "image/png": "[encoded data removed]",
      "text/plain": [
       "<matplotlib.figure.Figure at 0xa5eb810>"
      ]
     },
     "metadata": {},
     "output_type": "display_data"
    }
   ],
   "source": [
    "X_bak = X.copy()\n",
    "y_bak = y.copy()\n",
    "\n",
    "X[y==1] = X[y==1] + 0.5\n",
    "plt.scatter(X[:,0], X[:,1], s=50, c=y, cmap=plt.cm.bwr )  # cmap : matplotlib.org/examples/color/colormaps_reference.html\n",
    "plt.xlabel('X0')\n",
    "plt.ylabel('X1');"
   ]
  },
  {
   "cell_type": "markdown",
   "metadata": {},
   "source": [
    "보기에도 linearly separable 함 "
   ]
  },
  {
   "cell_type": "markdown",
   "metadata": {},
   "source": [
    "#### SVC with C=100000"
   ]
  },
  {
   "cell_type": "code",
   "execution_count": 19,
   "metadata": {
    "collapsed": false
   },
   "outputs": [
    {
     "name": "stdout",
     "output_type": "stream",
     "text": [
      "Number of Support Vectors (Class, SV) :  [(-1, 2), (1, 1)]\n"
     ]
    },
    {
     "data": {
      "image/png": "[encoded data removed]",
      "text/plain": [
       "<matplotlib.figure.Figure at 0xa7a39f0>"
      ]
     },
     "metadata": {},
     "output_type": "display_data"
    }
   ],
   "source": [
    "svc_C_big = SVC(C= 100000, kernel='linear', probability=True)  # default kernel 세팅은 rbf 임 \n",
    "svc_C_big.fit(X, y)\n",
    "plot_classifier(svc_C_big, X, y)\n",
    "plt.xlabel('X0')\n",
    "plt.ylabel('X1')\n",
    "plt.show()"
   ]
  },
  {
   "cell_type": "code",
   "execution_count": 20,
   "metadata": {
    "collapsed": false
   },
   "outputs": [
    {
     "name": "stdout",
     "output_type": "stream",
     "text": [
      "[[10  0]\n",
      " [ 0 10]]\n",
      "Accuracy:  1.0\n",
      "Sensitivity:  1.0\n",
      "Precision:  1.0\n",
      "AUC Score:  1.0\n",
      "Number of support vectors:  3\n"
     ]
    }
   ],
   "source": [
    "conf_mat = metrics.confusion_matrix(y, svc_C_big.predict(X))     \n",
    "print(conf_mat)\n",
    "\n",
    "print(\"Accuracy: \", metrics.accuracy_score(y, svc_C_big.predict(X)) )\n",
    "print(\"Sensitivity: \",  metrics.recall_score(y, svc_C_big.predict(X)) )\n",
    "print(\"Precision: \",  metrics.precision_score(y, svc_C_big.predict(X)) )\n",
    "y_pred_prob = svc_C_big.predict_proba(X)\n",
    "print(\"AUC Score: \", metrics.roc_auc_score(y, y_pred_prob[:,1]) )\n",
    "print(\"Number of support vectors: \", np.sum(svc_C_big.n_support_))"
   ]
  },
  {
   "cell_type": "markdown",
   "metadata": {},
   "source": [
    "- training set에 대한 것이긴 해도 완벽하게 분류함 \n",
    "- support vector 3개로 margin이 좁음 "
   ]
  },
  {
   "cell_type": "markdown",
   "metadata": {},
   "source": [
    "#### C값을 줄여 0.1로 하면 margin이 넓어져 out-of-sample 케이스에도 더 낫게 대처할 가능성 커짐 "
   ]
  },
  {
   "cell_type": "code",
   "execution_count": 21,
   "metadata": {
    "collapsed": false
   },
   "outputs": [
    {
     "name": "stdout",
     "output_type": "stream",
     "text": [
      "Number of Support Vectors (Class, SV) :  [(-1, 6), (1, 6)]\n"
     ]
    },
    {
     "data": {
      "image/png": "[encoded data removed]",
      "text/plain": [
       "<matplotlib.figure.Figure at 0xa9119b0>"
      ]
     },
     "metadata": {},
     "output_type": "display_data"
    },
    {
     "name": "stdout",
     "output_type": "stream",
     "text": [
      "[[ 9  1]\n",
      " [ 0 10]]\n",
      "Accuracy:  0.95\n",
      "Sensitivity:  1.0\n",
      "Precision:  0.909090909091\n",
      "AUC Score:  1.0\n",
      "Number of support vectors:  12\n"
     ]
    }
   ],
   "source": [
    "svc_C_small = SVC(C= 0.1, kernel='linear', probability=True)\n",
    "svc_C_small.fit(X, y)\n",
    "plot_classifier(svc_C_small, X, y)\n",
    "plt.xlabel('X0')\n",
    "plt.ylabel('X1')\n",
    "plt.show()\n",
    "\n",
    "conf_mat = metrics.confusion_matrix(y, svc_C_small.predict(X))     \n",
    "print(conf_mat)\n",
    "\n",
    "print(\"Accuracy: \", metrics.accuracy_score(y, svc_C_small.predict(X)) )\n",
    "print(\"Sensitivity: \",  metrics.recall_score(y, svc_C_small.predict(X)) )\n",
    "print(\"Precision: \",  metrics.precision_score(y, svc_C_small.predict(X)) )\n",
    "y_pred_prob = svc_C_small.predict_proba(X)\n",
    "print(\"AUC Score: \", metrics.roc_auc_score(y, y_pred_prob[:,1]) )\n",
    "print(\"Number of support vectors: \", np.sum(svc_C_small.n_support_))"
   ]
  },
  {
   "cell_type": "markdown",
   "metadata": {},
   "source": [
    "### 9.6.2 Support Vector Machine [(예)](http://scikit-learn.org/stable/modules/generated/sklearn.svm.SVC.html#examples-using-sklearn-svm-svc) \n",
    "- [RBF 커널 세팅](http://scikit-learn.org/stable/auto_examples/svm/plot_rbf_parameters.html)"
   ]
  },
  {
   "cell_type": "markdown",
   "metadata": {},
   "source": [
    "#### 클래스가 2개이고(binary class) Linearly Separable 하지 않는 샘플을 만듬"
   ]
  },
  {
   "cell_type": "code",
   "execution_count": 22,
   "metadata": {
    "collapsed": false
   },
   "outputs": [
    {
     "data": {
      "image/png": "[encoded data removed]",
      "text/plain": [
       "<matplotlib.figure.Figure at 0xa61ee30>"
      ]
     },
     "metadata": {},
     "output_type": "display_data"
    }
   ],
   "source": [
    "np.random.seed(123)\n",
    "X = np.random.randn(200,2)\n",
    "X[:100, :] = X[:100, :] + 2\n",
    "X[100:150, :] = X[100:150, :] - 2\n",
    "# y = np.repeat([1,2], [150, 50])   # has problem later on with ROC curve  \n",
    "y = np.repeat([0,1], [150, 50])\n",
    "\n",
    "plt.scatter(X[:,0], X[:,1], s=40, c=y, cmap=plt.cm.prism )  \n",
    "plt.xlabel('X0')\n",
    "plt.ylabel('X1');"
   ]
  },
  {
   "cell_type": "markdown",
   "metadata": {},
   "source": [
    "#### Radial Kernel을 이용해 모델 만들기 : training set을 이용하여 C=1, gamma=1"
   ]
  },
  {
   "cell_type": "code",
   "execution_count": 23,
   "metadata": {
    "collapsed": false
   },
   "outputs": [
    {
     "name": "stdout",
     "output_type": "stream",
     "text": [
      "Number of Support Vectors (Class, SV) :  [(0, 29), (1, 16)]\n"
     ]
    },
    {
     "data": {
      "image/png": "[encoded data removed]",
      "text/plain": [
       "<matplotlib.figure.Figure at 0xa603750>"
      ]
     },
     "metadata": {},
     "output_type": "display_data"
    }
   ],
   "source": [
    "X_train, X_test, y_train, y_test = train_test_split(X, y, train_size=100, random_state=1234)  # train/test split \n",
    "\n",
    "rbf_svc = SVC(kernel='rbf', gamma=1, C=1.0).fit(X_train, y_train)  # Use the training set \n",
    "plot_classifier(rbf_svc, X_train, y_train)\n",
    "plt.xlabel('X0')\n",
    "plt.ylabel('X1')\n",
    "plt.show()"
   ]
  },
  {
   "cell_type": "markdown",
   "metadata": {},
   "source": [
    "Training performance : 눈으로 보니 4개 샘플이 잘 못 분류됨 "
   ]
  },
  {
   "cell_type": "code",
   "execution_count": 24,
   "metadata": {
    "collapsed": false
   },
   "outputs": [
    {
     "name": "stdout",
     "output_type": "stream",
     "text": [
      "[[69  3]\n",
      " [ 1 27]]\n",
      "4 samples are mis-classified out of 100\n"
     ]
    }
   ],
   "source": [
    "conf_mat = metrics.confusion_matrix(y_train, rbf_svc.predict(X_train))     \n",
    "print(conf_mat)\n",
    "print(\"%d samples are mis-classified out of %d\" % ((conf_mat[0,1]+conf_mat[1,0]), np.sum(conf_mat)) )"
   ]
  },
  {
   "cell_type": "code",
   "execution_count": 25,
   "metadata": {
    "collapsed": false
   },
   "outputs": [
    {
     "name": "stdout",
     "output_type": "stream",
     "text": [
      "Indices of support vectors: [ 4  9 10 11 18 32 37 38 40 42 47 48 49 50 53 59 62 63 64 69 76 77 83 84 86\n",
      " 87 92 94 97  0  1  2  8 23 26 28 34 35 41 54 60 88 89 91 95]\n",
      "\n"
     ]
    }
   ],
   "source": [
    "print(\"Indices of support vectors:\" , rbf_svc.support_ )\n",
    "print()\n",
    "# print(\"Support Vectors:\")\n",
    "# print(rbf_svc.support_vectors_)"
   ]
  },
  {
   "cell_type": "markdown",
   "metadata": {},
   "source": [
    "#### Increase C for narrower margin (complex fit) "
   ]
  },
  {
   "cell_type": "code",
   "execution_count": 26,
   "metadata": {
    "collapsed": false
   },
   "outputs": [
    {
     "name": "stdout",
     "output_type": "stream",
     "text": [
      "Number of Support Vectors (Class, SV) :  [(0, 20), (1, 10)]\n"
     ]
    },
    {
     "data": {
      "image/png": "[encoded data removed]",
      "text/plain": [
       "<matplotlib.figure.Figure at 0xa7bc530>"
      ]
     },
     "metadata": {},
     "output_type": "display_data"
    }
   ],
   "source": [
    "rbf_svc = SVC(kernel='rbf', gamma=1, C=1e5).fit(X_train, y_train)  # Use the training set \n",
    "plot_classifier(rbf_svc, X_train, y_train)\n",
    "plt.xlabel('X0')\n",
    "plt.ylabel('X1')\n",
    "plt.show()"
   ]
  },
  {
   "cell_type": "code",
   "execution_count": 27,
   "metadata": {
    "collapsed": false
   },
   "outputs": [
    {
     "data": {
      "text/plain": [
       "array([[72,  0],\n",
       "       [ 0, 28]])"
      ]
     },
     "execution_count": 27,
     "metadata": {},
     "output_type": "execute_result"
    }
   ],
   "source": [
    "metrics.confusion_matrix(y_train, rbf_svc.predict(X_train)) "
   ]
  },
  {
   "cell_type": "markdown",
   "metadata": {},
   "source": [
    "완벽함.  하지만 decision boundary가 지나치게 복잡해 overfitting 가능성 많음 "
   ]
  },
  {
   "cell_type": "markdown",
   "metadata": {},
   "source": [
    "#### Grid Search를 이용해 RBF 커널을 사용하는 SVM의 C와 gamma를 변화시키면서 (공간내) 최적의 세팅을 탐색:\n",
    "- 전체 데이터가 아닌 training set에 대해 수행 \n",
    "- C와 gamma가 커질수록 complex 모델"
   ]
  },
  {
   "cell_type": "code",
   "execution_count": 28,
   "metadata": {
    "collapsed": false
   },
   "outputs": [
    {
     "data": {
      "text/plain": [
       "[mean: 0.72000, std: 0.03029, params: {'gamma': 0.5, 'C': 0.01},\n",
       " mean: 0.72000, std: 0.03029, params: {'gamma': 1, 'C': 0.01},\n",
       " mean: 0.72000, std: 0.03029, params: {'gamma': 2, 'C': 0.01},\n",
       " mean: 0.72000, std: 0.03029, params: {'gamma': 3, 'C': 0.01},\n",
       " mean: 0.72000, std: 0.03029, params: {'gamma': 4, 'C': 0.01},\n",
       " mean: 0.87000, std: 0.09559, params: {'gamma': 0.5, 'C': 0.1},\n",
       " mean: 0.81000, std: 0.07769, params: {'gamma': 1, 'C': 0.1},\n",
       " mean: 0.72000, std: 0.03029, params: {'gamma': 2, 'C': 0.1},\n",
       " mean: 0.72000, std: 0.03029, params: {'gamma': 3, 'C': 0.1},\n",
       " mean: 0.72000, std: 0.03029, params: {'gamma': 4, 'C': 0.1},\n",
       " mean: 0.88000, std: 0.11263, params: {'gamma': 0.5, 'C': 1},\n",
       " mean: 0.87000, std: 0.10578, params: {'gamma': 1, 'C': 1},\n",
       " mean: 0.86000, std: 0.09194, params: {'gamma': 2, 'C': 1},\n",
       " mean: 0.84000, std: 0.08841, params: {'gamma': 3, 'C': 1},\n",
       " mean: 0.84000, std: 0.09908, params: {'gamma': 4, 'C': 1},\n",
       " mean: 0.89000, std: 0.06791, params: {'gamma': 0.5, 'C': 10},\n",
       " mean: 0.89000, std: 0.07342, params: {'gamma': 1, 'C': 10},\n",
       " mean: 0.90000, std: 0.07857, params: {'gamma': 2, 'C': 10},\n",
       " mean: 0.88000, std: 0.09855, params: {'gamma': 3, 'C': 10},\n",
       " mean: 0.86000, std: 0.10882, params: {'gamma': 4, 'C': 10},\n",
       " mean: 0.85000, std: 0.04475, params: {'gamma': 0.5, 'C': 100},\n",
       " mean: 0.85000, std: 0.05121, params: {'gamma': 1, 'C': 100},\n",
       " mean: 0.90000, std: 0.07857, params: {'gamma': 2, 'C': 100},\n",
       " mean: 0.88000, std: 0.09855, params: {'gamma': 3, 'C': 100},\n",
       " mean: 0.86000, std: 0.10882, params: {'gamma': 4, 'C': 100},\n",
       " mean: 0.86000, std: 0.04629, params: {'gamma': 0.5, 'C': 1000},\n",
       " mean: 0.85000, std: 0.05121, params: {'gamma': 1, 'C': 1000},\n",
       " mean: 0.90000, std: 0.07857, params: {'gamma': 2, 'C': 1000},\n",
       " mean: 0.88000, std: 0.09855, params: {'gamma': 3, 'C': 1000},\n",
       " mean: 0.86000, std: 0.10882, params: {'gamma': 4, 'C': 1000}]"
      ]
     },
     "execution_count": 28,
     "metadata": {},
     "output_type": "execute_result"
    }
   ],
   "source": [
    "parameters = [{'gamma': [0.5, 1, 2, 3, 4],\n",
    "               'C': [0.01, 0.1, 1, 10, 100, 1000]}]\n",
    "clf_grid = GridSearchCV(SVC(kernel='rbf'), parameters, cv=10, scoring='accuracy')\n",
    "clf_grid.fit(X_train, y_train)\n",
    "clf_grid.grid_scores_"
   ]
  },
  {
   "cell_type": "code",
   "execution_count": 29,
   "metadata": {
    "collapsed": false
   },
   "outputs": [
    {
     "name": "stdout",
     "output_type": "stream",
     "text": [
      "0.9\n",
      "{'gamma': 2, 'C': 10}\n"
     ]
    }
   ],
   "source": [
    "# 최적 모델 보기 \n",
    "print(clf_grid.best_score_)\n",
    "print(clf_grid.best_params_)"
   ]
  },
  {
   "cell_type": "markdown",
   "metadata": {},
   "source": [
    "- C 가 커지고, gamma 가 커질 수록 non-linear 한 데이터를 잘 분류.  그러나 overfit 가능성도 증가 \n",
    "- 같은 성능치를 보이면 C와 gamma가 작은 패러미터를 반환  \n",
    "- 이 데이터에 대한 (탐색 공간내) 최적 RBF-SVM은 C=10, gamma=2.  이 때 accuracy=0.9 "
   ]
  },
  {
   "cell_type": "markdown",
   "metadata": {},
   "source": [
    "Cross-validation이나 grid search CV를 사용해 모델을 만들때, 책에서와 같이 train/test split하고 **train set에** 대해 CV나 GridSearchCV를 적용해 적당한 패러미터를 선정하고, 이를 이용해 모델을 만들어 이 모델로 test set을 평가해 test performance를 추정하는 방법도 가능. "
   ]
  },
  {
   "cell_type": "markdown",
   "metadata": {},
   "source": [
    "#### GridSearchCV 가 반환한 최적 parameter 조합에 test performance 평가: "
   ]
  },
  {
   "cell_type": "code",
   "execution_count": 30,
   "metadata": {
    "collapsed": false
   },
   "outputs": [
    {
     "name": "stdout",
     "output_type": "stream",
     "text": [
      "[[68 10]\n",
      " [ 4 18]]\n",
      "Accuracy:  0.86\n",
      "Sensitivity:  0.818181818182\n",
      "Precision:  0.642857142857\n"
     ]
    }
   ],
   "source": [
    "y_pred_best = clf_grid.predict(X_test)    # y_pred_best = clf_grid.best_estimator_.predict(X_test) : does the same \n",
    "\n",
    "conf_mat = metrics.confusion_matrix(y_test, y_pred_best)      \n",
    "print(conf_mat)\n",
    "\n",
    "print(\"Accuracy: \", metrics.accuracy_score(y_test, y_pred_best) )\n",
    "print(\"Sensitivity: \",  metrics.recall_score(y_test, y_pred_best) )\n",
    "print(\"Precision: \",  metrics.precision_score(y_test, y_pred_best) )"
   ]
  },
  {
   "cell_type": "markdown",
   "metadata": {},
   "source": [
    "### 9.6.3 ROC Curves"
   ]
  },
  {
   "cell_type": "markdown",
   "metadata": {},
   "source": [
    "4장에서 배운 ROC 커브의 특성을 복습. \n",
    "- Training set에 대해서는 non-linear 한 데이터도 잘 fit하는 복잡한(flexible) 모델이 더 좋은 성능을 보이지만,\n",
    "- Test set에 대해서는 반드시 그렇지 않음.  \n",
    "- SVM도 마찬가지. ROC 커브 특성에서도 나타남 "
   ]
  },
  {
   "cell_type": "markdown",
   "metadata": {},
   "source": [
    "#### Training set으로 훈련한 두개의 rbf_svm 모델을 만들어 training set과 test set에 각각 적용해 본다. \n",
    "- svm_opt : 앞에서 gridSearchCV로 구한 최적 패러미터 사용 (C': 10, 'gamma': 2)\n",
    "- svm_flex : svm_opt에서 gamma=100 으로 높여 모델을 non-linearity에 잘 적응시켜 flexible 하게 한 것 "
   ]
  },
  {
   "cell_type": "code",
   "execution_count": 31,
   "metadata": {
    "collapsed": false
   },
   "outputs": [
    {
     "data": {
      "text/plain": [
       "SVC(C=10, cache_size=200, class_weight=None, coef0=0.0,\n",
       "  decision_function_shape=None, degree=3, gamma=100, kernel='rbf',\n",
       "  max_iter=-1, probability=True, random_state=None, shrinking=True,\n",
       "  tol=0.001, verbose=False)"
      ]
     },
     "execution_count": 31,
     "metadata": {},
     "output_type": "execute_result"
    }
   ],
   "source": [
    "svm_opt = SVC(kernel='rbf', C=10, gamma=2, probability=True)   # 최적 패러미터 기반 모델 \n",
    "svm_opt.fit(X_train, y_train)\n",
    "\n",
    "svm_flex = SVC(kernel='rbf', C=10, gamma=100, probability=True)   # gamma를 100으로 증가해 non-linear 특성 강화 모델 \n",
    "svm_flex.fit(X_train, y_train)"
   ]
  },
  {
   "cell_type": "code",
   "execution_count": 32,
   "metadata": {
    "collapsed": false
   },
   "outputs": [
    {
     "name": "stdout",
     "output_type": "stream",
     "text": [
      "auc_opt_train: 1.000 , auc_flex_train: 1.000\n",
      "auc_opt_test: 0.885 , auc_flex_test: 0.859\n"
     ]
    },
    {
     "data": {
      "image/png": "[encoded data removed]",
      "text/plain": [
       "<matplotlib.figure.Figure at 0xa851190>"
      ]
     },
     "metadata": {},
     "output_type": "display_data"
    }
   ],
   "source": [
    "# ROC Curve : against training set\n",
    "y_pred_prob_opt = svm_opt.predict_proba(X_train)\n",
    "y_pred_prob_flex = svm_flex.predict_proba(X_train)\n",
    "\n",
    "fpr_opt, tpr_opt, thresholds_opt = metrics.roc_curve(y_train, y_pred_prob_opt[:,1])\n",
    "fpr_flex, tpr_flex, thresholds_flex = metrics.roc_curve(y_train, y_pred_prob_flex[:,1])\n",
    "\n",
    "auc_opt_train = metrics.roc_auc_score(y_train, y_pred_prob_opt[:,1])\n",
    "auc_flex_train = metrics.roc_auc_score(y_train, y_pred_prob_flex[:,1])\n",
    "\n",
    "fig, (ax1, ax2) = plt.subplots(nrows=1, ncols=2, figsize=(14, 6))          \n",
    "fig.subplots_adjust(wspace=0.3)\n",
    "\n",
    "ax1.plot(fpr_opt, tpr_opt, color='b', label='optimum, gamma=2, AUC=%.2f' % auc_opt_train)\n",
    "ax1.plot(fpr_flex, tpr_flex, color='r', label='flexible, gamma=100, AUC=%.2f' % auc_flex_train)\n",
    "ax1.set_title('ROC Curve: Training Set')\n",
    "\n",
    "print(\"auc_opt_train: %.3f , auc_flex_train: %.3f\" % (auc_opt_train, auc_flex_train))\n",
    "\n",
    "# ROC Curve : against Test set\n",
    "y_pred_prob_opt = svm_opt.predict_proba(X_test)\n",
    "y_pred_prob_flex = svm_flex.predict_proba(X_test)\n",
    "\n",
    "fpr_opt, tpr_opt, thresholds_opt = metrics.roc_curve(y_test, y_pred_prob_opt[:,1])\n",
    "fpr_flex, tpr_flex, thresholds_flex = metrics.roc_curve(y_test, y_pred_prob_flex[:,1])\n",
    "\n",
    "auc_opt_test = metrics.roc_auc_score(y_test, y_pred_prob_opt[:,1])\n",
    "auc_flex_test = metrics.roc_auc_score(y_test, y_pred_prob_flex[:,1])\n",
    "\n",
    "ax2.plot(fpr_opt, tpr_opt, color='b', label='optimum, gamma=2, AUC=%.2f' % auc_opt_test)\n",
    "ax2.plot(fpr_flex, tpr_flex, color='r', label='flexible, gamma=100, AUC=%.2f' % auc_flex_test)\n",
    "ax2.set_title('ROC Curve: Test Set')\n",
    "\n",
    "print(\"auc_opt_test: %.3f , auc_flex_test: %.3f\" % (auc_opt_test, auc_flex_test))\n",
    "\n",
    "for ax in fig. axes:\n",
    "    ax.plot([0, 1], [0, 1], 'c--', linewidth=1.0)\n",
    "    ax.set_xlabel('False Positive Rate')\n",
    "    ax.set_ylabel('True Positive Rate (Sensitivity)')\n",
    "    ax.set_ylim([-0.03, 1.03])\n",
    "    ax.set_xlim([-0.03, 1.03])\n",
    "    ax.legend(loc=\"lower right\")\n",
    "    \n",
    "    "
   ]
  },
  {
   "cell_type": "markdown",
   "metadata": {},
   "source": [
    "- Training set에 대해서는 두 모델이 다 완벽했지만, (optimum plot이 flexible plot에 가렸음) \n",
    "- Test set에 대해서는 CV로 구한 패러미터로 설정한 모델이 더 나은 ROC 커브를 보여준다. Classification의 결과를 확률로 받아 FPR이 0.18 즈음 되는 지점의 threshold로 판별을 고려  "
   ]
  },
  {
   "cell_type": "markdown",
   "metadata": {},
   "source": [
    "### 9.6.4 SVM with Multiple Classes : Target response가 3개 이상의 클래스로 된 경우\n",
    "- scikit-learn의 SVM은 One-Verses-One 방법으로 Multi-Class Classification 수행 [[참고]](http://scikit-learn.org/stable/modules/multiclass.html)"
   ]
  },
  {
   "cell_type": "markdown",
   "metadata": {},
   "source": [
    "Generate data: There are simpler ways to do this.  But I followed exactly as written in the book"
   ]
  },
  {
   "cell_type": "code",
   "execution_count": 33,
   "metadata": {
    "collapsed": false
   },
   "outputs": [],
   "source": [
    "np.random.seed(123)\n",
    "X = np.random.randn(200,2)\n",
    "X[:100, :] = X[:100, :] + 2\n",
    "X[100:150, :] = X[100:150, :] - 2\n",
    "y = np.repeat([1,2], [150, 50])    \n",
    "\n",
    "X = np.vstack((X, np.random.randn(50,2)))\n",
    "y = np.concatenate((y, np.repeat(0, 50)), axis=0)\n",
    "\n",
    "X[y==0, 1] = X[y==0, 1] + 3   # changed a little compared to ISLR because randomly generated data is different "
   ]
  },
  {
   "cell_type": "code",
   "execution_count": 34,
   "metadata": {
    "collapsed": false
   },
   "outputs": [
    {
     "data": {
      "image/png": "[encoded data removed]",
      "text/plain": [
       "<matplotlib.figure.Figure at 0xa88dc10>"
      ]
     },
     "metadata": {},
     "output_type": "display_data"
    }
   ],
   "source": [
    "plt.scatter(X[:,0], X[:,1], s=60, c=y, cmap=plt.cm.rainbow )  \n",
    "plt.xlabel('X0')\n",
    "plt.ylabel('X1');"
   ]
  },
  {
   "cell_type": "markdown",
   "metadata": {},
   "source": [
    "#### RBF Kernel, all data, C=10, gamma=1"
   ]
  },
  {
   "cell_type": "code",
   "execution_count": 35,
   "metadata": {
    "collapsed": false
   },
   "outputs": [
    {
     "name": "stdout",
     "output_type": "stream",
     "text": [
      "Number of Support Vectors (Class, SV) :  [(0, 31), (1, 62), (2, 27)]\n"
     ]
    },
    {
     "data": {
      "image/png": "[encoded data removed]",
      "text/plain": [
       "<matplotlib.figure.Figure at 0xa866050>"
      ]
     },
     "metadata": {},
     "output_type": "display_data"
    }
   ],
   "source": [
    "svm_multi_clf = SVC(kernel='rbf', C=10, gamma=1)\n",
    "svm_multi_clf.fit(X,y)\n",
    "plot_classifier(svm_multi_clf, X, y)\n",
    "plt.xlabel('X0')\n",
    "plt.ylabel('X1')\n",
    "plt.show()"
   ]
  },
  {
   "cell_type": "markdown",
   "metadata": {},
   "source": [
    "#### Grid Search를 이용해 적당한 C와 gamma를 탐색 :¶"
   ]
  },
  {
   "cell_type": "code",
   "execution_count": 36,
   "metadata": {
    "collapsed": false
   },
   "outputs": [
    {
     "name": "stdout",
     "output_type": "stream",
     "text": [
      "0.868\n",
      "{'gamma': 0.1, 'C': 1}\n"
     ]
    }
   ],
   "source": [
    "parameters = [{'gamma': [0.01, 0.05, 0.1, 0.5, 1, 5, 10],\n",
    "               'C': [0.01, 0.1, 0.5, 1, 5, 10, 100, 1000]}]\n",
    "svm_multi_clf_grid = GridSearchCV(SVC(kernel='rbf'), parameters, cv=10, scoring='accuracy')\n",
    "svm_multi_clf_grid.fit(X, y)\n",
    "svm_multi_clf_grid.grid_scores_\n",
    "\n",
    "# 최적 모델 보기 (accuracy 기준)\n",
    "print(svm_multi_clf_grid.best_score_)\n",
    "print(svm_multi_clf_grid.best_params_)"
   ]
  },
  {
   "cell_type": "code",
   "execution_count": 37,
   "metadata": {
    "collapsed": false
   },
   "outputs": [
    {
     "name": "stdout",
     "output_type": "stream",
     "text": [
      "Number of Support Vectors (Class, SV) :  [(0, 28), (1, 50), (2, 34)]\n"
     ]
    },
    {
     "data": {
      "image/png": "[encoded data removed]",
      "text/plain": [
       "<matplotlib.figure.Figure at 0xa871270>"
      ]
     },
     "metadata": {},
     "output_type": "display_data"
    }
   ],
   "source": [
    "# Applying best parameter against training data \n",
    "svm_multi_clf = SVC(kernel='rbf', C=1, gamma=0.1)\n",
    "svm_multi_clf.fit(X,y)\n",
    "plot_classifier(svm_multi_clf, X, y)\n",
    "plt.xlabel('X0')\n",
    "plt.ylabel('X1')\n",
    "plt.show()"
   ]
  },
  {
   "cell_type": "markdown",
   "metadata": {
    "collapsed": false
   },
   "source": [
    "### 9.6.5 Application to Gene Expression Data\n",
    "**Data**: Khan Gene Data\n",
    "\n",
    "The data consists of a number of tissue samples corresponding to four distinct types of small round blue cell tumors. For each tissue sample, 2308 gene expression measurements are available.\n",
    "- xtrain, xtest, ytrain, ytest 네 가지로 되어있음\n",
    "- xtrain : numeric [1:63, 1:2308] 으로 63개 샘플, 2308개의 column\n",
    "- ytrain : 63 element vector로 [1,2,3,4] 값을 가짐. \n",
    "- xtest : numeric [1:20, 1:2308] 으로 20개 샘플, 2308개의 column\n",
    "- ytest : 20 element vector로 [1,2,3,4] 값을 가짐. \n",
    "데이터 샘플에 비해 feature수가 훨씬 많음. \n",
    "\n",
    "#### 목표: feature들로 부터 4가지 암 중 어디에 속하는 가를 추정하는 multiple-class Classification"
   ]
  },
  {
   "cell_type": "code",
   "execution_count": 38,
   "metadata": {
    "collapsed": false
   },
   "outputs": [],
   "source": [
    "# Data Loading & Munging\n",
    "X_train = pd.read_csv('../Data/Khan_xtrain.csv').drop('Unnamed: 0', axis=1)\n",
    "y_train = pd.read_csv('../Data/Khan_ytrain.csv').drop('Unnamed: 0', axis=1).as_matrix().ravel()\n",
    "X_test = pd.read_csv('../Data/Khan_xtest.csv').drop('Unnamed: 0', axis=1)\n",
    "y_test = pd.read_csv('../Data/Khan_ytest.csv').drop('Unnamed: 0', axis=1).as_matrix().ravel()"
   ]
  },
  {
   "cell_type": "code",
   "execution_count": 39,
   "metadata": {
    "collapsed": false
   },
   "outputs": [
    {
     "data": {
      "text/plain": [
       "1     8\n",
       "2    23\n",
       "3    12\n",
       "4    20\n",
       "dtype: int64"
      ]
     },
     "execution_count": 39,
     "metadata": {},
     "output_type": "execute_result"
    }
   ],
   "source": [
    "pd.Series(y_train).value_counts(sort=False)  # y_train table"
   ]
  },
  {
   "cell_type": "code",
   "execution_count": 40,
   "metadata": {
    "collapsed": false
   },
   "outputs": [
    {
     "data": {
      "text/plain": [
       "1    3\n",
       "2    6\n",
       "3    6\n",
       "4    5\n",
       "dtype: int64"
      ]
     },
     "execution_count": 40,
     "metadata": {},
     "output_type": "execute_result"
    }
   ],
   "source": [
    "pd.Series(y_test).value_counts(sort=False)   # y_test table"
   ]
  },
  {
   "cell_type": "code",
   "execution_count": 41,
   "metadata": {
    "collapsed": false
   },
   "outputs": [
    {
     "data": {
      "text/plain": [
       "SVC(C=10, cache_size=200, class_weight=None, coef0=0.0,\n",
       "  decision_function_shape=None, degree=3, gamma='auto', kernel='linear',\n",
       "  max_iter=-1, probability=False, random_state=None, shrinking=True,\n",
       "  tol=0.001, verbose=False)"
      ]
     },
     "execution_count": 41,
     "metadata": {},
     "output_type": "execute_result"
    }
   ],
   "source": [
    "svc = SVC(kernel='linear', C=10)\n",
    "svc.fit(X_train, y_train)"
   ]
  },
  {
   "cell_type": "markdown",
   "metadata": {},
   "source": [
    "#### Training set Confusion Matrix and Performance"
   ]
  },
  {
   "cell_type": "code",
   "execution_count": 42,
   "metadata": {
    "collapsed": false
   },
   "outputs": [
    {
     "name": "stdout",
     "output_type": "stream",
     "text": [
      "Training Accuracy:  1.0\n",
      "Training Sensitivity:  1.0\n",
      "Training Precision:  1.0\n"
     ]
    },
    {
     "data": {
      "text/plain": [
       "array([[ 8,  0,  0,  0],\n",
       "       [ 0, 23,  0,  0],\n",
       "       [ 0,  0, 12,  0],\n",
       "       [ 0,  0,  0, 20]])"
      ]
     },
     "execution_count": 42,
     "metadata": {},
     "output_type": "execute_result"
    }
   ],
   "source": [
    "pred_train = svc.predict(X_train)\n",
    "\n",
    "print(\"Training Accuracy: \", metrics.accuracy_score(y_train, pred_train) )\n",
    "print(\"Training Sensitivity: \",  metrics.recall_score(y_train, pred_train, average='weighted') )\n",
    "print(\"Training Precision: \",  metrics.precision_score(y_train, pred_train, average='weighted') )\n",
    "conf_mat = metrics.confusion_matrix(y_train, pred_train) ; conf_mat"
   ]
  },
  {
   "cell_type": "markdown",
   "metadata": {},
   "source": [
    "#### Test set Confusion Matrix and Performance"
   ]
  },
  {
   "cell_type": "code",
   "execution_count": 43,
   "metadata": {
    "collapsed": false
   },
   "outputs": [
    {
     "name": "stdout",
     "output_type": "stream",
     "text": [
      "Predicted  1  2  3  4\n",
      "True(실제)             \n",
      "1          3  0  0  0\n",
      "2          0  6  0  0\n",
      "3          0  2  4  0\n",
      "4          0  0  0  5\n",
      "\n",
      "Test Accuracy:  0.9\n",
      "Test Sensitivity:  0.9\n",
      "Test Precision:  0.925\n"
     ]
    }
   ],
   "source": [
    "pred_test = svc.predict(X_test)\n",
    "conf_mat = metrics.confusion_matrix(y_test, pred_test) \n",
    "conf_mat_df = pd.DataFrame(conf_mat, index=svc.classes_, columns=svc.classes_)\n",
    "conf_mat_df.index.name = \"True(실제)\"\n",
    "conf_mat_df.columns.name = \"Predicted\"\n",
    "print(conf_mat_df)\n",
    "print()\n",
    "print(\"Test Accuracy: \", metrics.accuracy_score(y_test, pred_test) )\n",
    "print(\"Test Sensitivity: \",  metrics.recall_score(y_test, pred_test, average='weighted') )\n",
    "print(\"Test Precision: \",  metrics.precision_score(y_test, pred_test, average='weighted') )"
   ]
  },
  {
   "cell_type": "markdown",
   "metadata": {},
   "source": [
    "#### GridSearchCV - linear kernel"
   ]
  },
  {
   "cell_type": "code",
   "execution_count": 44,
   "metadata": {
    "collapsed": false
   },
   "outputs": [
    {
     "name": "stdout",
     "output_type": "stream",
     "text": [
      "1.0\n",
      "{'C': 0.01}\n"
     ]
    }
   ],
   "source": [
    "parameters = [{'C': [0.01, 0.1, 0.5, 1, 5, 10, 100, 1000]}]\n",
    "svm_multi_clf_grid = GridSearchCV(SVC(kernel='linear'), parameters, cv=8, scoring='accuracy')\n",
    "svm_multi_clf_grid.fit(X_train, y_train)\n",
    "svm_multi_clf_grid.grid_scores_\n",
    "\n",
    "# 최적 모델 보기 (accuracy 기준)\n",
    "print(svm_multi_clf_grid.best_score_)\n",
    "print(svm_multi_clf_grid.best_params_)"
   ]
  },
  {
   "cell_type": "code",
   "execution_count": 45,
   "metadata": {
    "collapsed": false
   },
   "outputs": [
    {
     "name": "stdout",
     "output_type": "stream",
     "text": [
      "Predicted  1  2  3  4\n",
      "True(실제)             \n",
      "1          3  0  0  0\n",
      "2          0  6  0  0\n",
      "3          0  2  4  0\n",
      "4          0  0  0  5\n",
      "\n",
      "Test Accuracy:  0.9\n",
      "Test Sensitivity:  0.9\n",
      "Test Precision:  0.925\n"
     ]
    }
   ],
   "source": [
    "svc_best = SVC(kernel='linear', C=0.01)\n",
    "svc_best.fit(X_train, y_train)\n",
    "\n",
    "pred_test = svc_best.predict(X_test)\n",
    "conf_mat = metrics.confusion_matrix(y_test, pred_test) \n",
    "conf_mat_df = pd.DataFrame(conf_mat, index=svc.classes_, columns=svc.classes_)\n",
    "conf_mat_df.index.name = \"True(실제)\"\n",
    "conf_mat_df.columns.name = \"Predicted\"\n",
    "print(conf_mat_df)\n",
    "print()\n",
    "print(\"Test Accuracy: \", metrics.accuracy_score(y_test, pred_test) )\n",
    "print(\"Test Sensitivity: \",  metrics.recall_score(y_test, pred_test, average='weighted') )\n",
    "print(\"Test Precision: \",  metrics.precision_score(y_test, pred_test, average='weighted') )"
   ]
  },
  {
   "cell_type": "markdown",
   "metadata": {},
   "source": [
    "-> 이 전 결과와 같음 "
   ]
  },
  {
   "cell_type": "markdown",
   "metadata": {},
   "source": [
    "\n"
   ]
  },
  {
   "cell_type": "markdown",
   "metadata": {},
   "source": [
    "## Gradient Boosting Classifier와 Support Vector Classifier에 grid search CV를 적용해 최적 모델 만들기 및 두 모델 비교 - 'Heart' 데이터를 대상으로"
   ]
  },
  {
   "cell_type": "markdown",
   "metadata": {},
   "source": [
    "#### 예측분석 진행: Heart 데이터 사용 심장병 진단\n",
    "- Qualitative variable **'AHD'** is the response \n",
    "- 병 진단이기에 metric으로 단순 accuracy가 중요한 것이 아니라, sensitivity 및 FPR이 중요\n",
    "- 따라서 AUC도 참고해, 적정한 패러미터를 선정하고 모델을 만들어 \n",
    "- ROC를 보면서 threshold를 결정하여 \n",
    "- classification 확률로 받은 결과에 threshold를 적용하여 최종적으로 classification을 수행한다. \n",
    "- GridSearchCV를 적절하게 사용한다. "
   ]
  },
  {
   "cell_type": "markdown",
   "metadata": {},
   "source": [
    "#### Let's begin: Load 'Heart' data, drop null rows, do label encoding of AHD, (No: 0,  Yes: 1)"
   ]
  },
  {
   "cell_type": "code",
   "execution_count": 46,
   "metadata": {
    "collapsed": false
   },
   "outputs": [
    {
     "name": "stdout",
     "output_type": "stream",
     "text": [
      "<class 'pandas.core.frame.DataFrame'>\n",
      "Int64Index: 297 entries, 1 to 302\n",
      "Data columns (total 13 columns):\n",
      "Age          297 non-null int64\n",
      "Sex          297 non-null int64\n",
      "ChestPain    297 non-null int32\n",
      "RestBP       297 non-null int64\n",
      "Chol         297 non-null int64\n",
      "Fbs          297 non-null int64\n",
      "RestECG      297 non-null int64\n",
      "MaxHR        297 non-null int64\n",
      "ExAng        297 non-null int64\n",
      "Oldpeak      297 non-null float64\n",
      "Slope        297 non-null int64\n",
      "Ca           297 non-null float64\n",
      "Thal         297 non-null int32\n",
      "dtypes: float64(2), int32(2), int64(9)\n",
      "memory usage: 30.2 KB\n"
     ]
    },
    {
     "data": {
      "text/plain": [
       "0    160\n",
       "1    137\n",
       "Name: AHD, dtype: int64"
      ]
     },
     "execution_count": 46,
     "metadata": {},
     "output_type": "execute_result"
    }
   ],
   "source": [
    "Heart = pd.read_csv('../Data/Heart.csv', index_col=0).dropna()\n",
    "\n",
    "from sklearn import preprocessing\n",
    "le = preprocessing.LabelEncoder()\n",
    "Heart.ChestPain = le.fit_transform(Heart.ChestPain)\n",
    "Heart.Thal = le.fit_transform(Heart.Thal)\n",
    "Heart.AHD = le.fit_transform(Heart.AHD)\n",
    "\n",
    "X = Heart.drop('AHD', axis=1)\n",
    "y = Heart.AHD    # No: 0,  Yes: 1\n",
    "\n",
    "# 데이터 점검 \n",
    "X.info()\n",
    "y.value_counts()"
   ]
  },
  {
   "cell_type": "markdown",
   "metadata": {},
   "source": [
    "-> OK.  No nulls,  All Numeric,  No class imbalance\n",
    "\n",
    "Standardization 같은 전처리 안 함 \n",
    "\n",
    "### 1. Gradient Boosting Classifier 에 Grid Search CV 적용하면서 최적 모델 구하기 "
   ]
  },
  {
   "cell_type": "code",
   "execution_count": 47,
   "metadata": {
    "collapsed": false
   },
   "outputs": [
    {
     "name": "stdout",
     "output_type": "stream",
     "text": [
      "Accuracy Best Score: 0.845117845118\n",
      "Accuracy Best Params: {'n_estimators': 90, 'max_depth': 2}\n",
      "GradientBoostingClassifier(init=None, learning_rate=0.02, loss='exponential',\n",
      "              max_depth=2, max_features='sqrt', max_leaf_nodes=None,\n",
      "              min_samples_leaf=1, min_samples_split=1,\n",
      "              min_weight_fraction_leaf=0.0, n_estimators=90,\n",
      "              presort='auto', random_state=123, subsample=0.9, verbose=0,\n",
      "              warm_start=False)\n",
      "\n",
      "AUC Best Score: 0.915117824105\n",
      "AUC Best Params: {'n_estimators': 140, 'max_depth': 2}\n",
      "GradientBoostingClassifier(init=None, learning_rate=0.02, loss='exponential',\n",
      "              max_depth=2, max_features='sqrt', max_leaf_nodes=None,\n",
      "              min_samples_leaf=1, min_samples_split=1,\n",
      "              min_weight_fraction_leaf=0.0, n_estimators=140,\n",
      "              presort='auto', random_state=123, subsample=0.9, verbose=0,\n",
      "              warm_start=False)\n"
     ]
    }
   ],
   "source": [
    "from sklearn.ensemble import GradientBoostingClassifier, GradientBoostingRegressor\n",
    "from sklearn.utils import shuffle\n",
    "\n",
    "tree_number = list(range(50, 251, 10))   \n",
    "\n",
    "X, y = shuffle(X, y, random_state=123)   # Let's shuffle before going into gridSearchCV\n",
    "\n",
    "param_grid = [{'n_estimators': tree_number, 'max_depth': [2, 3, 4]}] # grid 탐색 공간 \n",
    "\n",
    "GB_clf = GradientBoostingClassifier(min_samples_split=1, max_features = 'sqrt', subsample = 0.9,\n",
    "                                         learning_rate=0.02, loss='exponential', random_state=123)\n",
    "\n",
    "GB_clf_gridCV_accuracy = GridSearchCV(GB_clf, param_grid, cv=7, scoring='accuracy', n_jobs=-1)\n",
    "GB_clf_gridCV_AUC = GridSearchCV(GB_clf, param_grid, cv=7, scoring='roc_auc', n_jobs=-1)\n",
    "\n",
    "GB_clf_gridCV_accuracy.fit(X, y)\n",
    "GB_clf_gridCV_AUC.fit(X, y)\n",
    "\n",
    "print(\"Accuracy Best Score:\", GB_clf_gridCV_accuracy.best_score_)\n",
    "print(\"Accuracy Best Params:\", GB_clf_gridCV_accuracy.best_params_)\n",
    "print(GB_clf_gridCV_accuracy.best_estimator_)\n",
    "\n",
    "print()\n",
    "\n",
    "print(\"AUC Best Score:\", GB_clf_gridCV_AUC.best_score_)\n",
    "print(\"AUC Best Params:\", GB_clf_gridCV_AUC.best_params_)\n",
    "print(GB_clf_gridCV_AUC.best_estimator_)\n"
   ]
  },
  {
   "cell_type": "markdown",
   "metadata": {},
   "source": [
    "#### -> 잘 되었음.  두 metric이 다 비슷한 hyper parameter들을 추천. \n",
    "\n",
    "#### n_estimators=90~140, max_depth=2 으로 탐색공간 좁혀 다시 gridSearchCV "
   ]
  },
  {
   "cell_type": "code",
   "execution_count": 48,
   "metadata": {
    "collapsed": false
   },
   "outputs": [
    {
     "name": "stdout",
     "output_type": "stream",
     "text": [
      "Accuracy Best Score: 0.841750841751\n",
      "Accuracy Best Params: {'n_estimators': 90, 'max_depth': 2}\n",
      "GradientBoostingClassifier(init=None, learning_rate=0.02, loss='exponential',\n",
      "              max_depth=2, max_features='sqrt', max_leaf_nodes=None,\n",
      "              min_samples_leaf=1, min_samples_split=1,\n",
      "              min_weight_fraction_leaf=0.0, n_estimators=90,\n",
      "              presort='auto', random_state=123, subsample=0.9, verbose=0,\n",
      "              warm_start=False)\n",
      "\n",
      "AUC Best Score: 0.92098682547\n",
      "AUC Best Params: {'n_estimators': 95, 'max_depth': 2}\n",
      "GradientBoostingClassifier(init=None, learning_rate=0.02, loss='exponential',\n",
      "              max_depth=2, max_features='sqrt', max_leaf_nodes=None,\n",
      "              min_samples_leaf=1, min_samples_split=1,\n",
      "              min_weight_fraction_leaf=0.0, n_estimators=95,\n",
      "              presort='auto', random_state=123, subsample=0.9, verbose=0,\n",
      "              warm_start=False)\n"
     ]
    }
   ],
   "source": [
    "tree_number = list(range(90, 141, 5) )  \n",
    "\n",
    "X, y = shuffle(X, y, random_state=123)   # Let's shuffle before going into gridSearchCV\n",
    "\n",
    "param_grid = [{'n_estimators': tree_number, 'max_depth': [2]}] # grid 탐색 공간 \n",
    "\n",
    "GB_clf = GradientBoostingClassifier(min_samples_split=1, max_features = 'sqrt', subsample = 0.9,\n",
    "                                         learning_rate=0.02, loss='exponential', random_state=123)\n",
    "\n",
    "GB_clf_gridCV_accuracy = GridSearchCV(GB_clf, param_grid, cv=7, scoring='accuracy', n_jobs=-1)\n",
    "GB_clf_gridCV_AUC = GridSearchCV(GB_clf, param_grid, cv=7, scoring='roc_auc', n_jobs=-1)\n",
    "\n",
    "GB_clf_gridCV_accuracy.fit(X, y)\n",
    "GB_clf_gridCV_AUC.fit(X, y)\n",
    "\n",
    "print(\"Accuracy Best Score:\", GB_clf_gridCV_accuracy.best_score_)\n",
    "print(\"Accuracy Best Params:\", GB_clf_gridCV_accuracy.best_params_)\n",
    "print(GB_clf_gridCV_accuracy.best_estimator_)\n",
    "\n",
    "print()\n",
    "\n",
    "print(\"AUC Best Score:\", GB_clf_gridCV_AUC.best_score_)\n",
    "print(\"AUC Best Params:\", GB_clf_gridCV_AUC.best_params_)\n",
    "print(GB_clf_gridCV_AUC.best_estimator_)\n"
   ]
  },
  {
   "cell_type": "markdown",
   "metadata": {},
   "source": [
    "**n_estimators = 95, max_depth = 2 로 최적의 Grandient Booosting Classifier 결정**"
   ]
  },
  {
   "cell_type": "code",
   "execution_count": 49,
   "metadata": {
    "collapsed": false
   },
   "outputs": [
    {
     "data": {
      "text/plain": [
       "<matplotlib.legend.Legend at 0xa82e910>"
      ]
     },
     "execution_count": 49,
     "metadata": {},
     "output_type": "execute_result"
    },
    {
     "data": {
      "image/png": "[encoded data removed]",
      "text/plain": [
       "<matplotlib.figure.Figure at 0xa7ddd70>"
      ]
     },
     "metadata": {},
     "output_type": "display_data"
    }
   ],
   "source": [
    "GB_clf_best = GradientBoostingClassifier(n_estimators=95, max_depth=2, min_samples_split=1, max_features = 'sqrt', subsample = 0.9,\n",
    "                                         learning_rate=0.02, loss='exponential', random_state=123)\n",
    "\n",
    "# Train/test split 하여 GB_clf_best를 train에 훈련시키고, test에 대해서 ROC plot \n",
    "X_train, X_test, y_train, y_test = train_test_split(X, y, train_size=0.6, random_state=123) \n",
    "\n",
    "GB_clf_best.fit(X_train, y_train)\n",
    "y_pred_prob = GB_clf_best.predict_proba(X_test)\n",
    "fpr, tpr, thresholds = metrics.roc_curve(y_test, y_pred_prob[:,1])\n",
    "\n",
    "auc_test = metrics.roc_auc_score(y_test, y_pred_prob[:,1])\n",
    "\n",
    "plt.figure(figsize=(5, 5))\n",
    "\n",
    "plt.plot(fpr, tpr, color='r', label='GBC, AUC=%.2f' % auc_test)\n",
    "plt.title('ROC Curve: Test Set')\n",
    "plt.plot([0, 1], [0, 1], 'c--', linewidth=1.0)\n",
    "plt.xlabel('False Positive Rate')\n",
    "plt.ylabel('True Positive Rate (Sensitivity)')\n",
    "plt.ylim([-0.03, 1.03])\n",
    "plt.xlim([-0.03, 1.03])\n",
    "plt.legend(loc=\"lower right\")"
   ]
  },
  {
   "cell_type": "markdown",
   "metadata": {},
   "source": [
    "ROC를 보면서 적절한 threshold 값 선택   "
   ]
  },
  {
   "cell_type": "code",
   "execution_count": 50,
   "metadata": {
    "collapsed": false
   },
   "outputs": [
    {
     "name": "stdout",
     "output_type": "stream",
     "text": [
      "0.432448516002\n"
     ]
    },
    {
     "data": {
      "text/plain": [
       "(0.89473684210526316, 0.096774193548387094)"
      ]
     },
     "execution_count": 50,
     "metadata": {},
     "output_type": "execute_result"
    }
   ],
   "source": [
    "def get_TPR_FPR_given_Thd(threshold):   # return (sensitivity, FPR) tuple\n",
    "    sensitivity_th = tpr[thresholds > threshold][-1]  \n",
    "    fpr_th = fpr[thresholds > threshold][-1]\n",
    "    return (sensitivity_th, fpr_th)\n",
    "\n",
    "def get_Threshold_given_TPR(sensitivity):\n",
    "    return (thresholds[tpr<sensitivity][-1] )\n",
    "\n",
    "print(get_Threshold_given_TPR(0.9))\n",
    "get_TPR_FPR_given_Thd(0.43)"
   ]
  },
  {
   "cell_type": "markdown",
   "metadata": {},
   "source": [
    "-> Threshold를 0.44~0.42 사이에서 선택함이 좋겠음 : Sensitivity는 0.9 (탐지율 90%)에 달하고, FPR (병이 아닌데 병이라고 진단)은 0.1 (10%) 정도로 퍽 만족스럼 "
   ]
  },
  {
   "cell_type": "markdown",
   "metadata": {},
   "source": [
    "### Gradient Boosting Classifier의 최종 스펙\n",
    "- GB_clf_best 로 정함 (n_estimators = 95, max_depth = 2 ,,, )\n",
    "- GB_clf_best 의 classifying 확률에 threshold를 0.43 정도에서 적용하면 **Test Set에 대해** Accuracy=0.85, TPR=0.9, FPR=0.1 정도를 기대할 수 있겠음 "
   ]
  },
  {
   "cell_type": "markdown",
   "metadata": {},
   "source": [
    "#### 정말 그럴까 확인"
   ]
  },
  {
   "cell_type": "code",
   "execution_count": 51,
   "metadata": {
    "collapsed": false
   },
   "outputs": [
    {
     "name": "stdout",
     "output_type": "stream",
     "text": [
      "[[56  6]\n",
      " [ 6 51]]\n",
      "\n",
      "Accuracy: 0.90\n",
      "Sensitivity(Recall): 0.89\n",
      "Precision: 0.89\n",
      "False Positive Rate: 0.10\n"
     ]
    }
   ],
   "source": [
    "y_pred_th = [1 if prob>0.43 else 0 for prob in y_pred_prob[:,1]]\n",
    "conf_mat = metrics.confusion_matrix(y_test, y_pred_th) \n",
    "print(conf_mat)\n",
    "TP = conf_mat[1,1]\n",
    "TN = conf_mat[0,0]\n",
    "FP = conf_mat[0,1]\n",
    "FN = conf_mat[1,0]\n",
    "print(\"\\nAccuracy: %.2f\" % ( (TP+TN) / (TP+TN+FP+FN)) )\n",
    "print(\"Sensitivity(Recall): %.2f\" %  (TP / (FN + TP)) )\n",
    "print(\"Precision: %.2f\" %  (TP / (FP + TP)) )\n",
    "print(\"False Positive Rate: %.2f\" %  (FP / (FP + TN)) )      "
   ]
  },
  {
   "cell_type": "markdown",
   "metadata": {},
   "source": [
    "**OK. 꽤 괜찮은 모델 같음.  특히 FPR이 0.1 정도에서 억제됨이 좋음**  "
   ]
  },
  {
   "cell_type": "markdown",
   "metadata": {},
   "source": [
    "### 2. Support Vector Machine 에 Grid Search CV 및 [Randomized Search CV](http://scikit-learn.org/stable/modules/grid_search.html#randomized-parameter-search) 적용하여 최적 모델 구하기 \n",
    "- 패러미터를 추가해 GridSearchCV를 돌렸는데 탐색공간이 급격히 커진 때문인지 언제 계산이 끝날 지 몰라 당혹스러울 때가 많다. 이런 일들이 자주 일어남 \n",
    "- [GridSearchCV](http://scikit-learn.org/stable/modules/generated/sklearn.model_selection.GridSearchCV.html#sklearn.model_selection.GridSearchCV) 는 exhaustive search (완전 검색) 이기에 패러미터가 추가되면 순식간에 연산 시간이 폭증할 수 있음. 이 경우 탐색공간의 일부 부분집합만 무작위 탐색하는 [RandomizedSearchCV](http://scikit-learn.org/stable/modules/generated/sklearn.model_selection.RandomizedSearchCV.html#sklearn.model_selection.RandomizedSearchCV)를 동원 가능  \n",
    "- 앞의 Gradient Boosting Classifier 경우와 비슷하게 진행\n",
    "- Heart 데이터는 샘플수가 꽤 되므로 RBF와 Polynomial도 Kernel로 적용해 봄 \n",
    "- SVM이 scale invariant 모델이 아니기에 일부 feature들을 standardization이나 MinMax [전처리](http://scikit-learn.org/stable/modules/preprocessing.html) 할 수도 있다. "
   ]
  },
  {
   "cell_type": "markdown",
   "metadata": {},
   "source": [
    "#### GridSearchCV: 꽤 시간 걸림 "
   ]
  },
  {
   "cell_type": "code",
   "execution_count": 52,
   "metadata": {
    "collapsed": false
   },
   "outputs": [],
   "source": [
    "# X_bak = X.copy()   \n",
    "# y_bak = y.copy()\n",
    "\n",
    "# # param_grid = [{'C': [0.001, 0.01, 0.1, 0.5, 1, 5, 10, 100],\n",
    "# #                'kernel': ['linear', 'rbf', 'poly'],\n",
    "# #                'gamma': [0.001, 0.05, 0.01, 0.1, 0.5, 1, 5, 10],\n",
    "# #                'degree': [2,3,4]}\n",
    "# #              ]\n",
    "\n",
    "# param_grid = [{'C': [0.001, 0.01, 0.1, 0.5, 1, 5, 10, 100],\n",
    "#                'kernel': ['linear', 'rbf'],\n",
    "#                'gamma': [0.001, 0.01, 0.1, 0.5, 1, 5, 10, 50]}\n",
    "#              ] \n",
    "               \n",
    "# svc = SVC()\n",
    "# SVM_clf_gridCV_accuracy = GridSearchCV(svc, param_grid, cv=7, scoring='accuracy', n_jobs=-1)\n",
    "# SVM_clf_gridCV_AUC = GridSearchCV(svc, param_grid, cv=7, scoring='roc_auc', n_jobs=-1)\n",
    "\n",
    "# SVM_clf_gridCV_accuracy.fit(X, y)\n",
    "# SVM_clf_gridCV_AUC.fit(X, y)\n",
    "\n",
    "# print(\"Accuracy Best Score:\", SVM_clf_gridCV_accuracy.best_score_)\n",
    "# print(\"Accuracy Best Params:\", SVM_clf_gridCV_accuracy.best_params_)\n",
    "# print(SVM_clf_gridCV_accuracy.best_estimator_)\n",
    "\n",
    "# print()\n",
    "\n",
    "# print(\"AUC Best Score:\", SVM_clf_gridCV_AUC.best_score_)\n",
    "# print(\"AUC Best Params:\", SVM_clf_gridCV_AUC.best_params_)\n",
    "# print(SVM_clf_gridCV_AUC.best_estimator_)"
   ]
  },
  {
   "cell_type": "markdown",
   "metadata": {},
   "source": [
    "### 계산 시간(비용)을 줄이기 위해 [RandomizedSearchCV](http://scikit-learn.org/stable/modules/generated/sklearn.model_selection.RandomizedSearchCV.html#sklearn.model_selection.RandomizedSearchCV)\n",
    "- param_distributions : dict"
   ]
  },
  {
   "cell_type": "markdown",
   "metadata": {},
   "source": [
    "아래 cell은 위 cell의 결과를 카피한 내용.  위 cell 실행에 일반 PC에서 20분 넘게 걸릴 수 있음.  comment-out된 parameter space를 grid search CV로 수행하면 하루가 다 갈수도  "
   ]
  },
  {
   "cell_type": "raw",
   "metadata": {},
   "source": [
    "Accuracy Best Score: 0.845117845118\n",
    "Accuracy Best Params: {'kernel': 'linear', 'gamma': 0.001, 'C': 0.1}\n",
    "SVC(C=0.1, cache_size=200, class_weight=None, coef0=0.0,\n",
    "  decision_function_shape=None, degree=3, gamma=0.001, kernel='linear',\n",
    "  max_iter=-1, probability=False, random_state=None, shrinking=True,\n",
    "  tol=0.001, verbose=False)\n",
    "\n",
    "AUC Best Score: 0.906080988794\n",
    "AUC Best Params: {'kernel': 'linear', 'gamma': 0.001, 'C': 0.1}\n",
    "SVC(C=0.1, cache_size=200, class_weight=None, coef0=0.0,\n",
    "  decision_function_shape=None, degree=3, gamma=0.001, kernel='linear',\n",
    "  max_iter=-1, probability=False, random_state=None, shrinking=True,\n",
    "  tol=0.001, verbose=False)"
   ]
  },
  {
   "cell_type": "markdown",
   "metadata": {},
   "source": [
    "#### Randomized Search CV는 random하게 parameter space의 일부 subset을 탐색함. 얼마나 꼼꼼이 탐색할지는 **'n_iter'** 로 결정함   \n",
    "\n",
    "#### 앞의 gridsearchCV를 [randomized search CV](http://scikit-learn.org/0.17/modules/generated/sklearn.grid_search.RandomizedSearchCV.html#sklearn.grid_search.RandomizedSearchCV)로 "
   ]
  },
  {
   "cell_type": "code",
   "execution_count": 53,
   "metadata": {
    "collapsed": false
   },
   "outputs": [
    {
     "name": "stdout",
     "output_type": "stream",
     "text": [
      "Accuracy Best Score: 0.83164983165\n",
      "Accuracy Best Params: {'kernel': 'linear', 'gamma': 10, 'C': 5}\n",
      "SVC(C=5, cache_size=200, class_weight=None, coef0=0.0,\n",
      "  decision_function_shape=None, degree=3, gamma=10, kernel='linear',\n",
      "  max_iter=-1, probability=False, random_state=None, shrinking=True,\n",
      "  tol=0.001, verbose=False)\n",
      "\n",
      "AUC Best Score: 0.906080988794\n",
      "AUC Best Params: {'kernel': 'linear', 'gamma': 5, 'C': 0.1}\n",
      "SVC(C=0.1, cache_size=200, class_weight=None, coef0=0.0,\n",
      "  decision_function_shape=None, degree=3, gamma=5, kernel='linear',\n",
      "  max_iter=-1, probability=False, random_state=None, shrinking=True,\n",
      "  tol=0.001, verbose=False)\n"
     ]
    }
   ],
   "source": [
    "from sklearn.grid_search import RandomizedSearchCV   # scikit-learn 0.17 버젼 \n",
    "\n",
    "param_dist = {'C': [0.001, 0.01, 0.1, 0.5, 1, 5, 10, 100],    # dict 이어야 함 \n",
    "               'kernel': ['linear', 'rbf'],\n",
    "               'gamma': [0.001, 0.01, 0.1, 0.5, 1, 5, 10, 50]}\n",
    "                          \n",
    "svc = SVC()\n",
    "SVM_clf_randCV_accuracy = RandomizedSearchCV(svc, param_dist, cv=7, scoring='accuracy', \n",
    "                                             n_iter=20, n_jobs=-1)       # n_iter=20\n",
    "SVM_clf_randCV_AUC = RandomizedSearchCV(svc, param_dist, cv=7, scoring='roc_auc', \n",
    "                                        n_iter=20, n_jobs=-1)            # n_iter=20\n",
    "\n",
    "SVM_clf_randCV_accuracy.fit(X, y)\n",
    "SVM_clf_randCV_AUC.fit(X, y)\n",
    "\n",
    "print(\"Accuracy Best Score:\", SVM_clf_randCV_accuracy.best_score_)\n",
    "print(\"Accuracy Best Params:\", SVM_clf_randCV_accuracy.best_params_)\n",
    "print(SVM_clf_randCV_accuracy.best_estimator_)\n",
    "\n",
    "print()\n",
    "\n",
    "print(\"AUC Best Score:\", SVM_clf_randCV_AUC.best_score_)\n",
    "print(\"AUC Best Params:\", SVM_clf_randCV_AUC.best_params_)\n",
    "print(SVM_clf_randCV_AUC.best_estimator_)"
   ]
  },
  {
   "cell_type": "markdown",
   "metadata": {},
   "source": [
    "- 탐색 공간의 일부만 시험했지만, GridSearchCV 와 같거나 비슷한 Accuracy와 AUC 성능치를 보이는 패러미터를 찾았음\n",
    "- RandomizedSearchCV로 찾은 패러미터는 물론 GridSearchCV 것과 다를 수 있음 "
   ]
  },
  {
   "cell_type": "markdown",
   "metadata": {},
   "source": [
    "#### 20번 돌 때 어떤 패러미터들을 random하게 선택했고, 그 때 AUC는 어떤지 보자"
   ]
  },
  {
   "cell_type": "code",
   "execution_count": 54,
   "metadata": {
    "collapsed": false
   },
   "outputs": [
    {
     "data": {
      "text/plain": [
       "[mean: 0.50000, std: 0.00000, params: {'kernel': 'rbf', 'gamma': 1, 'C': 10},\n",
       " mean: 0.88499, std: 0.03599, params: {'kernel': 'linear', 'gamma': 0.5, 'C': 0.01},\n",
       " mean: 0.90358, std: 0.03075, params: {'kernel': 'linear', 'gamma': 10, 'C': 0.5},\n",
       " mean: 0.50000, std: 0.00000, params: {'kernel': 'rbf', 'gamma': 5, 'C': 0.001},\n",
       " mean: 0.58293, std: 0.08079, params: {'kernel': 'rbf', 'gamma': 0.1, 'C': 1},\n",
       " mean: 0.90608, std: 0.02907, params: {'kernel': 'linear', 'gamma': 5, 'C': 0.1},\n",
       " mean: 0.51951, std: 0.01941, params: {'kernel': 'rbf', 'gamma': 0.5, 'C': 0.01},\n",
       " mean: 0.90169, std: 0.02662, params: {'kernel': 'linear', 'gamma': 0.1, 'C': 10},\n",
       " mean: 0.90358, std: 0.03075, params: {'kernel': 'linear', 'gamma': 1, 'C': 0.5},\n",
       " mean: 0.88499, std: 0.03599, params: {'kernel': 'linear', 'gamma': 1, 'C': 0.01},\n",
       " mean: 0.63171, std: 0.07301, params: {'kernel': 'rbf', 'gamma': 0.01, 'C': 0.01},\n",
       " mean: 0.90608, std: 0.02907, params: {'kernel': 'linear', 'gamma': 50, 'C': 0.1},\n",
       " mean: 0.90608, std: 0.02907, params: {'kernel': 'linear', 'gamma': 10, 'C': 0.1},\n",
       " mean: 0.56108, std: 0.05415, params: {'kernel': 'rbf', 'gamma': 0.1, 'C': 0.001},\n",
       " mean: 0.89004, std: 0.03785, params: {'kernel': 'linear', 'gamma': 0.5, 'C': 100},\n",
       " mean: 0.90546, std: 0.02704, params: {'kernel': 'linear', 'gamma': 0.1, 'C': 5},\n",
       " mean: 0.88499, std: 0.03599, params: {'kernel': 'linear', 'gamma': 50, 'C': 0.01},\n",
       " mean: 0.90169, std: 0.02662, params: {'kernel': 'linear', 'gamma': 0.001, 'C': 10},\n",
       " mean: 0.50000, std: 0.00000, params: {'kernel': 'rbf', 'gamma': 50, 'C': 10},\n",
       " mean: 0.90546, std: 0.02704, params: {'kernel': 'linear', 'gamma': 0.001, 'C': 5}]"
      ]
     },
     "execution_count": 54,
     "metadata": {},
     "output_type": "execute_result"
    }
   ],
   "source": [
    "SVM_clf_randCV_AUC.grid_scores_"
   ]
  },
  {
   "cell_type": "markdown",
   "metadata": {},
   "source": [
    "- rbf 커널이 나쁜 결과를 보였다\n",
    "- {'kernel': 'linear', 'gamma': 5, 'C': 0.1} 패러미터 조합이 AUC=0.90608 로 가장 좋지만, 이와 비슷한 결과를 보이는 다른 패러미터 조합들도 많다 "
   ]
  },
  {
   "cell_type": "markdown",
   "metadata": {},
   "source": [
    "#### 똑 같은 패러미터 공간인데, feature들이 standardization 된 상태라면?"
   ]
  },
  {
   "cell_type": "code",
   "execution_count": 55,
   "metadata": {
    "collapsed": false
   },
   "outputs": [
    {
     "name": "stdout",
     "output_type": "stream",
     "text": [
      "Accuracy Best Score: 0.838383838384\n",
      "Accuracy Best Params: {'kernel': 'linear', 'gamma': 0.001, 'C': 0.1}\n",
      "SVC(C=0.1, cache_size=200, class_weight=None, coef0=0.0,\n",
      "  decision_function_shape=None, degree=3, gamma=0.001, kernel='linear',\n",
      "  max_iter=-1, probability=False, random_state=None, shrinking=True,\n",
      "  tol=0.001, verbose=False)\n",
      "\n",
      "AUC Best Score: 0.907430802022\n",
      "AUC Best Params: {'kernel': 'linear', 'gamma': 10, 'C': 0.1}\n",
      "SVC(C=0.1, cache_size=200, class_weight=None, coef0=0.0,\n",
      "  decision_function_shape=None, degree=3, gamma=10, kernel='linear',\n",
      "  max_iter=-1, probability=False, random_state=None, shrinking=True,\n",
      "  tol=0.001, verbose=False)\n"
     ]
    }
   ],
   "source": [
    "from sklearn import preprocessing\n",
    "\n",
    "X_scaled = preprocessing.scale(X)   # Feature X를 standardization \n",
    "\n",
    "param_dist = {'C': [0.001, 0.01, 0.1, 0.5, 1, 5, 10, 100],    # dict 이어야 함 \n",
    "               'kernel': ['linear', 'rbf'],\n",
    "               'gamma': [0.001, 0.01, 0.1, 0.5, 1, 5, 10, 50]}\n",
    "               \n",
    "svc = SVC()\n",
    "SVM_clf_randCV_accuracy = RandomizedSearchCV(svc, param_dist, cv=7, scoring='accuracy', \n",
    "                                             n_iter=20, n_jobs=-1)       \n",
    "SVM_clf_randCV_AUC = RandomizedSearchCV(svc, param_dist, cv=7, scoring='roc_auc', \n",
    "                                        n_iter=20, n_jobs=-1)            \n",
    "\n",
    "SVM_clf_randCV_accuracy.fit(X_scaled, y)\n",
    "SVM_clf_randCV_AUC.fit(X_scaled, y)\n",
    "\n",
    "print(\"Accuracy Best Score:\", SVM_clf_randCV_accuracy.best_score_)\n",
    "print(\"Accuracy Best Params:\", SVM_clf_randCV_accuracy.best_params_)\n",
    "print(SVM_clf_randCV_accuracy.best_estimator_)\n",
    "\n",
    "print()\n",
    "\n",
    "print(\"AUC Best Score:\", SVM_clf_randCV_AUC.best_score_)\n",
    "print(\"AUC Best Params:\", SVM_clf_randCV_AUC.best_params_)\n",
    "print(SVM_clf_randCV_AUC.best_estimator_)"
   ]
  },
  {
   "cell_type": "markdown",
   "metadata": {},
   "source": [
    "- standardization 전과 비슷한 결과\n",
    "- 실행시간이 빨라졌음. 즉, 구현에 따라 다르겠지만 standardization 해서 feature 값들이 작아지니 속도가 증가되기도\n"
   ]
  },
  {
   "cell_type": "code",
   "execution_count": 56,
   "metadata": {
    "collapsed": false
   },
   "outputs": [
    {
     "data": {
      "text/plain": [
       "[mean: 0.68438, std: 0.04736, params: {'kernel': 'rbf', 'gamma': 5, 'C': 1},\n",
       " mean: 0.90743, std: 0.03057, params: {'kernel': 'linear', 'gamma': 10, 'C': 0.1},\n",
       " mean: 0.90461, std: 0.02441, params: {'kernel': 'linear', 'gamma': 5, 'C': 0.001},\n",
       " mean: 0.68438, std: 0.04736, params: {'kernel': 'rbf', 'gamma': 5, 'C': 5},\n",
       " mean: 0.59573, std: 0.05136, params: {'kernel': 'rbf', 'gamma': 10, 'C': 100},\n",
       " mean: 0.90424, std: 0.02319, params: {'kernel': 'linear', 'gamma': 5, 'C': 0.01},\n",
       " mean: 0.83001, std: 0.03311, params: {'kernel': 'rbf', 'gamma': 0.1, 'C': 100},\n",
       " mean: 0.86133, std: 0.03399, params: {'kernel': 'rbf', 'gamma': 0.1, 'C': 5},\n",
       " mean: 0.90461, std: 0.02441, params: {'kernel': 'linear', 'gamma': 0.01, 'C': 0.001},\n",
       " mean: 0.90424, std: 0.02319, params: {'kernel': 'linear', 'gamma': 0.1, 'C': 0.01},\n",
       " mean: 0.63667, std: 0.06747, params: {'kernel': 'rbf', 'gamma': 5, 'C': 0.01},\n",
       " mean: 0.90424, std: 0.02319, params: {'kernel': 'linear', 'gamma': 10, 'C': 0.01},\n",
       " mean: 0.90221, std: 0.02981, params: {'kernel': 'linear', 'gamma': 0.001, 'C': 5},\n",
       " mean: 0.78727, std: 0.04329, params: {'kernel': 'rbf', 'gamma': 1, 'C': 1},\n",
       " mean: 0.90193, std: 0.03041, params: {'kernel': 'linear', 'gamma': 50, 'C': 1},\n",
       " mean: 0.90253, std: 0.02998, params: {'kernel': 'linear', 'gamma': 0.001, 'C': 100},\n",
       " mean: 0.50622, std: 0.00982, params: {'kernel': 'rbf', 'gamma': 50, 'C': 100},\n",
       " mean: 0.67220, std: 0.06103, params: {'kernel': 'rbf', 'gamma': 5, 'C': 0.1},\n",
       " mean: 0.90645, std: 0.02475, params: {'kernel': 'rbf', 'gamma': 0.01, 'C': 1},\n",
       " mean: 0.90221, std: 0.02981, params: {'kernel': 'linear', 'gamma': 0.5, 'C': 10}]"
      ]
     },
     "execution_count": 56,
     "metadata": {},
     "output_type": "execute_result"
    }
   ],
   "source": [
    "SVM_clf_randCV_AUC.grid_scores_"
   ]
  },
  {
   "cell_type": "markdown",
   "metadata": {},
   "source": [
    "- linear 커널이 더 성능이 좋은 것 같아 보이나 일부 rbf 커널도 성능이 linear에 필적 \n",
    " * mean: 0.90645, std: 0.02475, params: {'kernel': 'rbf', 'gamma': 0.01, 'C': 1}"
   ]
  },
  {
   "cell_type": "markdown",
   "metadata": {},
   "source": [
    "#### 커널이 Polynomic 일 경우도 보자\n",
    "- 특히 poly 커널은 feature들을 standardization 또는 MinMax 등으로 숫자들은 작은 값으로 전처리 해야. 때로는 너무 시간 걸림 "
   ]
  },
  {
   "cell_type": "code",
   "execution_count": 57,
   "metadata": {
    "collapsed": false
   },
   "outputs": [
    {
     "name": "stdout",
     "output_type": "stream",
     "text": [
      "Accuracy Best Score: 0.811447811448\n",
      "Accuracy Best Params: {'degree': 3, 'gamma': 1, 'C': 0.001}\n",
      "SVC(C=0.001, cache_size=200, class_weight=None, coef0=0.0,\n",
      "  decision_function_shape=None, degree=3, gamma=1, kernel='poly',\n",
      "  max_iter=-1, probability=False, random_state=None, shrinking=True,\n",
      "  tol=0.001, verbose=False)\n",
      "\n",
      "AUC Best Score: 0.895942855502\n",
      "AUC Best Params: {'degree': 3, 'gamma': 0.01, 'C': 0.01}\n",
      "SVC(C=0.01, cache_size=200, class_weight=None, coef0=0.0,\n",
      "  decision_function_shape=None, degree=3, gamma=0.01, kernel='poly',\n",
      "  max_iter=-1, probability=False, random_state=None, shrinking=True,\n",
      "  tol=0.001, verbose=False)\n"
     ]
    }
   ],
   "source": [
    "param_dist = {'C': [0.001, 0.01, 0.1, 0.5, 1, 5, 10],\n",
    "               'gamma': [0.001, 0.01, 0.1, 0.5, 1, 10],\n",
    "               'degree': [2,3,4]}\n",
    "\n",
    "svc = SVC(kernel='poly')\n",
    "SVM_clf_randCV_accuracy = RandomizedSearchCV(svc, param_dist, cv=7, scoring='accuracy', \n",
    "                                             n_iter=30, n_jobs=-1)       \n",
    "SVM_clf_randCV_AUC = RandomizedSearchCV(svc, param_dist, cv=7, scoring='roc_auc', \n",
    "                                        n_iter=30, n_jobs=-1)            \n",
    "\n",
    "SVM_clf_randCV_accuracy.fit(X_scaled, y)\n",
    "SVM_clf_randCV_AUC.fit(X_scaled, y)\n",
    "\n",
    "print(\"Accuracy Best Score:\", SVM_clf_randCV_accuracy.best_score_)\n",
    "print(\"Accuracy Best Params:\", SVM_clf_randCV_accuracy.best_params_)\n",
    "print(SVM_clf_randCV_accuracy.best_estimator_)\n",
    "\n",
    "print()\n",
    "\n",
    "print(\"AUC Best Score:\", SVM_clf_randCV_AUC.best_score_)\n",
    "print(\"AUC Best Params:\", SVM_clf_randCV_AUC.best_params_)\n",
    "print(SVM_clf_randCV_AUC.best_estimator_)"
   ]
  },
  {
   "cell_type": "markdown",
   "metadata": {
    "collapsed": true
   },
   "source": [
    "- Polynomical 커널 결과가 linear나 rbf와 비슷하며 더 나은 것 같아 보이지는 않음"
   ]
  },
  {
   "cell_type": "markdown",
   "metadata": {},
   "source": [
    "### 최종 모델\n",
    "\n",
    "Heart 데이터에 대해서 Gradient Boosting Classifier나 SVM이 비슷한 성능을 보임 \n",
    " * Accuracy가 0.84 정도, AUC가 0.9 정도\n",
    " * Gradient Boosting의 AUC가 0.92 까지 되지만 SVM과 차이가 작음   \n",
    " * 따라서 어떤 모델을 사용할 지는 개인의 취향일 수도"
   ]
  },
  {
   "cell_type": "code",
   "execution_count": 58,
   "metadata": {
    "collapsed": false
   },
   "outputs": [
    {
     "name": "stdout",
     "output_type": "stream",
     "text": [
      "exit 0\n"
     ]
    }
   ],
   "source": [
    "print('exit 0')"
   ]
  }
 ],
 "metadata": {
  "anaconda-cloud": {},
  "kernelspec": {
   "display_name": "Python [Root]",
   "language": "python",
   "name": "Python [Root]"
  },
  "language_info": {
   "codemirror_mode": {
    "name": "ipython",
    "version": 3
   },
   "file_extension": ".py",
   "mimetype": "text/x-python",
   "name": "python",
   "nbconvert_exporter": "python",
   "pygments_lexer": "ipython3",
   "version": "3.5.2"
  }
 },
 "nbformat": 4,
 "nbformat_minor": 0
}
